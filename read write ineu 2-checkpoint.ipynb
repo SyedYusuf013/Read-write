{
 "cells": [
  {
   "cell_type": "code",
   "execution_count": 1,
   "id": "22f4ff14",
   "metadata": {},
   "outputs": [
    {
     "ename": "FileNotFoundError",
     "evalue": "[Errno 2] No such file or directory: 'fest.txt'",
     "output_type": "error",
     "traceback": [
      "\u001b[1;31m---------------------------------------------------------------------------\u001b[0m",
      "\u001b[1;31mFileNotFoundError\u001b[0m                         Traceback (most recent call last)",
      "\u001b[1;32m~\\AppData\\Local\\Temp/ipykernel_15892/304215998.py\u001b[0m in \u001b[0;36m<module>\u001b[1;34m\u001b[0m\n\u001b[1;32m----> 1\u001b[1;33m \u001b[0mf\u001b[0m \u001b[1;33m=\u001b[0m \u001b[0mopen\u001b[0m\u001b[1;33m(\u001b[0m\u001b[1;34m\"fest.txt\"\u001b[0m\u001b[1;33m)\u001b[0m\u001b[1;33m\u001b[0m\u001b[1;33m\u001b[0m\u001b[0m\n\u001b[0m",
      "\u001b[1;31mFileNotFoundError\u001b[0m: [Errno 2] No such file or directory: 'fest.txt'"
     ]
    }
   ],
   "source": [
    "f = open(\"fest.txt\") "
   ]
  },
  {
   "cell_type": "code",
   "execution_count": null,
   "id": "bbf2f1d0",
   "metadata": {},
   "outputs": [],
   "source": [
    "f = open(\"fest.txt\",\"wb\")"
   ]
  },
  {
   "cell_type": "code",
   "execution_count": 4,
   "id": "cc671cbc",
   "metadata": {},
   "outputs": [],
   "source": [
    "f = open(\"fest.txt\",\"w\")"
   ]
  },
  {
   "cell_type": "code",
   "execution_count": 5,
   "id": "780c74c5",
   "metadata": {},
   "outputs": [
    {
     "data": {
      "text/plain": [
       "37"
      ]
     },
     "execution_count": 5,
     "metadata": {},
     "output_type": "execute_result"
    }
   ],
   "source": [
    "f.write(\"jhjckvvcxkjvcx dvdkjv djv djjhdjkvdjk\")"
   ]
  },
  {
   "cell_type": "code",
   "execution_count": 6,
   "id": "910a7daa",
   "metadata": {},
   "outputs": [],
   "source": [
    "f.close()"
   ]
  },
  {
   "cell_type": "code",
   "execution_count": 7,
   "id": "63321aa1",
   "metadata": {},
   "outputs": [],
   "source": [
    "f = open(\"fest.txt\")"
   ]
  },
  {
   "cell_type": "code",
   "execution_count": 11,
   "id": "d4f67732",
   "metadata": {},
   "outputs": [
    {
     "data": {
      "text/plain": [
       "''"
      ]
     },
     "execution_count": 11,
     "metadata": {},
     "output_type": "execute_result"
    }
   ],
   "source": [
    "f.read()"
   ]
  },
  {
   "cell_type": "code",
   "execution_count": 12,
   "id": "6168a335",
   "metadata": {},
   "outputs": [
    {
     "data": {
      "text/plain": [
       "10"
      ]
     },
     "execution_count": 12,
     "metadata": {},
     "output_type": "execute_result"
    }
   ],
   "source": [
    "f.seek(10)"
   ]
  },
  {
   "cell_type": "code",
   "execution_count": 13,
   "id": "61739c95",
   "metadata": {},
   "outputs": [
    {
     "data": {
      "text/plain": [
       "\"jvcx dvdkjv djv djjhdjkvdjk\\nsdkjfgsdk\\nkdds\\nkdfld\\ndkbflsd\\ndsjbsdl'kdsf\\nsdkdgfs\\nkdsf\\n\""
      ]
     },
     "execution_count": 13,
     "metadata": {},
     "output_type": "execute_result"
    }
   ],
   "source": [
    "f.read()"
   ]
  },
  {
   "cell_type": "code",
   "execution_count": 14,
   "id": "5dfccbfe",
   "metadata": {},
   "outputs": [
    {
     "data": {
      "text/plain": [
       "''"
      ]
     },
     "execution_count": 14,
     "metadata": {},
     "output_type": "execute_result"
    }
   ],
   "source": [
    "f.read()"
   ]
  },
  {
   "cell_type": "code",
   "execution_count": 15,
   "id": "9dca6880",
   "metadata": {},
   "outputs": [
    {
     "data": {
      "text/plain": [
       "0"
      ]
     },
     "execution_count": 15,
     "metadata": {},
     "output_type": "execute_result"
    }
   ],
   "source": [
    "f.seek(0)"
   ]
  },
  {
   "cell_type": "code",
   "execution_count": 16,
   "id": "471c1469",
   "metadata": {},
   "outputs": [
    {
     "data": {
      "text/plain": [
       "\"jhjckvvcxkjvcx dvdkjv djv djjhdjkvdjk\\nsdkjfgsdk\\nkdds\\nkdfld\\ndkbflsd\\ndsjbsdl'kdsf\\nsdkdgfs\\nkdsf\\n\""
      ]
     },
     "execution_count": 16,
     "metadata": {},
     "output_type": "execute_result"
    }
   ],
   "source": [
    "f.read()"
   ]
  },
  {
   "cell_type": "code",
   "execution_count": 1,
   "id": "34e3a550",
   "metadata": {},
   "outputs": [],
   "source": [
    "f = open(\"fest.txt\",\"r\")"
   ]
  },
  {
   "cell_type": "code",
   "execution_count": 2,
   "id": "83142c15",
   "metadata": {},
   "outputs": [
    {
     "ename": "UnsupportedOperation",
     "evalue": "not writable",
     "output_type": "error",
     "traceback": [
      "\u001b[1;31m---------------------------------------------------------------------------\u001b[0m",
      "\u001b[1;31mUnsupportedOperation\u001b[0m                      Traceback (most recent call last)",
      "\u001b[1;32m~\\AppData\\Local\\Temp/ipykernel_25476/3100236477.py\u001b[0m in \u001b[0;36m<module>\u001b[1;34m\u001b[0m\n\u001b[1;32m----> 1\u001b[1;33m \u001b[0mf\u001b[0m\u001b[1;33m.\u001b[0m\u001b[0mwrite\u001b[0m\u001b[1;33m(\u001b[0m\u001b[1;34m\"jdfhksd\"\u001b[0m\u001b[1;33m)\u001b[0m\u001b[1;33m\u001b[0m\u001b[1;33m\u001b[0m\u001b[0m\n\u001b[0m",
      "\u001b[1;31mUnsupportedOperation\u001b[0m: not writable"
     ]
    }
   ],
   "source": [
    "f.write(\"jdfhksd\")"
   ]
  },
  {
   "cell_type": "code",
   "execution_count": 3,
   "id": "1247ad43",
   "metadata": {},
   "outputs": [
    {
     "data": {
      "text/plain": [
       "\"jhjckvvcxkjvcx dvdkjv djv djjhdjkvdjk\\nsdkjfgsdk\\nkdds\\nkdfld\\ndkbflsd\\ndsjbsdl'kdsf\\nsdkdgfs\\nkdsf\\n\""
      ]
     },
     "execution_count": 3,
     "metadata": {},
     "output_type": "execute_result"
    }
   ],
   "source": [
    "f.read()"
   ]
  },
  {
   "cell_type": "code",
   "execution_count": 4,
   "id": "44d61452",
   "metadata": {},
   "outputs": [
    {
     "data": {
      "text/plain": [
       "''"
      ]
     },
     "execution_count": 4,
     "metadata": {},
     "output_type": "execute_result"
    }
   ],
   "source": [
    "f.read()"
   ]
  },
  {
   "cell_type": "code",
   "execution_count": 5,
   "id": "29e81c24",
   "metadata": {},
   "outputs": [
    {
     "data": {
      "text/plain": [
       "0"
      ]
     },
     "execution_count": 5,
     "metadata": {},
     "output_type": "execute_result"
    }
   ],
   "source": [
    "f.seek(0)"
   ]
  },
  {
   "cell_type": "code",
   "execution_count": 6,
   "id": "f7c781f7",
   "metadata": {},
   "outputs": [
    {
     "data": {
      "text/plain": [
       "'jhjckvvcxkjvcx dvdkjv djv'"
      ]
     },
     "execution_count": 6,
     "metadata": {},
     "output_type": "execute_result"
    }
   ],
   "source": [
    "f.read(25)"
   ]
  },
  {
   "cell_type": "code",
   "execution_count": 7,
   "id": "e9914736",
   "metadata": {},
   "outputs": [],
   "source": [
    "f.close()"
   ]
  },
  {
   "cell_type": "code",
   "execution_count": 8,
   "id": "de55fa3f",
   "metadata": {},
   "outputs": [
    {
     "ename": "ValueError",
     "evalue": "I/O operation on closed file.",
     "output_type": "error",
     "traceback": [
      "\u001b[1;31m---------------------------------------------------------------------------\u001b[0m",
      "\u001b[1;31mValueError\u001b[0m                                Traceback (most recent call last)",
      "\u001b[1;32m~\\AppData\\Local\\Temp/ipykernel_25476/3059900045.py\u001b[0m in \u001b[0;36m<module>\u001b[1;34m\u001b[0m\n\u001b[1;32m----> 1\u001b[1;33m \u001b[0mf\u001b[0m\u001b[1;33m.\u001b[0m\u001b[0mread\u001b[0m\u001b[1;33m(\u001b[0m\u001b[1;33m)\u001b[0m\u001b[1;33m\u001b[0m\u001b[1;33m\u001b[0m\u001b[0m\n\u001b[0m",
      "\u001b[1;31mValueError\u001b[0m: I/O operation on closed file."
     ]
    }
   ],
   "source": [
    "f.read()"
   ]
  },
  {
   "cell_type": "code",
   "execution_count": 10,
   "id": "4cb44f8f",
   "metadata": {},
   "outputs": [],
   "source": [
    "f=open(\"fest.txt\",\"w\")"
   ]
  },
  {
   "cell_type": "code",
   "execution_count": 11,
   "id": "b47444d8",
   "metadata": {},
   "outputs": [
    {
     "data": {
      "text/plain": [
       "49"
      ]
     },
     "execution_count": 11,
     "metadata": {},
     "output_type": "execute_result"
    }
   ],
   "source": [
    "f.write(\"hgdjh hhdt xdy kj tsdrshj dkj uyy dl g y fkkfuyuk\")"
   ]
  },
  {
   "cell_type": "code",
   "execution_count": 13,
   "id": "cd912c4b",
   "metadata": {},
   "outputs": [],
   "source": [
    "f.close()"
   ]
  },
  {
   "cell_type": "code",
   "execution_count": 14,
   "id": "380acbc7",
   "metadata": {},
   "outputs": [],
   "source": [
    "f=open(\"fest.txt\",\"a\")"
   ]
  },
  {
   "cell_type": "code",
   "execution_count": 15,
   "id": "bc8d3bde",
   "metadata": {},
   "outputs": [
    {
     "data": {
      "text/plain": [
       "34"
      ]
     },
     "execution_count": 15,
     "metadata": {},
     "output_type": "execute_result"
    }
   ],
   "source": [
    "f.write(\"dknjd klvbkd jdfk kkkd kjksdsgfksd\")"
   ]
  },
  {
   "cell_type": "code",
   "execution_count": 16,
   "id": "82fc0082",
   "metadata": {},
   "outputs": [],
   "source": [
    "f.close()"
   ]
  },
  {
   "cell_type": "code",
   "execution_count": 17,
   "id": "0f50b574",
   "metadata": {},
   "outputs": [],
   "source": [
    "f=open(\"fest1.txt\",\"wb\")"
   ]
  },
  {
   "cell_type": "code",
   "execution_count": 18,
   "id": "49dedca3",
   "metadata": {},
   "outputs": [
    {
     "ename": "TypeError",
     "evalue": "a bytes-like object is required, not 'str'",
     "output_type": "error",
     "traceback": [
      "\u001b[1;31m---------------------------------------------------------------------------\u001b[0m",
      "\u001b[1;31mTypeError\u001b[0m                                 Traceback (most recent call last)",
      "\u001b[1;32m~\\AppData\\Local\\Temp/ipykernel_25476/2341360102.py\u001b[0m in \u001b[0;36m<module>\u001b[1;34m\u001b[0m\n\u001b[1;32m----> 1\u001b[1;33m \u001b[0mf\u001b[0m\u001b[1;33m.\u001b[0m\u001b[0mwrite\u001b[0m\u001b[1;33m(\u001b[0m\u001b[1;34m\"kdjfdskfhsjf\"\u001b[0m\u001b[1;33m)\u001b[0m\u001b[1;33m\u001b[0m\u001b[1;33m\u001b[0m\u001b[0m\n\u001b[0m",
      "\u001b[1;31mTypeError\u001b[0m: a bytes-like object is required, not 'str'"
     ]
    }
   ],
   "source": [
    "f.write(\"kdjfdskfhsjf\")"
   ]
  },
  {
   "cell_type": "code",
   "execution_count": 19,
   "id": "139f6a43",
   "metadata": {},
   "outputs": [
    {
     "data": {
      "text/plain": [
       "12"
      ]
     },
     "execution_count": 19,
     "metadata": {},
     "output_type": "execute_result"
    }
   ],
   "source": [
    "f.write(b\"kdjfdskfhsjf\")"
   ]
  },
  {
   "cell_type": "code",
   "execution_count": 20,
   "id": "52c551e6",
   "metadata": {},
   "outputs": [],
   "source": [
    "f.close()"
   ]
  },
  {
   "cell_type": "code",
   "execution_count": 21,
   "id": "29b5668e",
   "metadata": {},
   "outputs": [],
   "source": [
    "f=open(\"fest1.txt\",\"r\")"
   ]
  },
  {
   "cell_type": "code",
   "execution_count": 22,
   "id": "824ba6a2",
   "metadata": {},
   "outputs": [
    {
     "data": {
      "text/plain": [
       "'kdjfdskfhsjf'"
      ]
     },
     "execution_count": 22,
     "metadata": {},
     "output_type": "execute_result"
    }
   ],
   "source": [
    "f.read()"
   ]
  },
  {
   "cell_type": "code",
   "execution_count": 23,
   "id": "ae15c012",
   "metadata": {},
   "outputs": [
    {
     "data": {
      "text/plain": [
       "2"
      ]
     },
     "execution_count": 23,
     "metadata": {},
     "output_type": "execute_result"
    }
   ],
   "source": [
    "f.seek(2)"
   ]
  },
  {
   "cell_type": "code",
   "execution_count": 24,
   "id": "3bb33031",
   "metadata": {},
   "outputs": [
    {
     "data": {
      "text/plain": [
       "'j'"
      ]
     },
     "execution_count": 24,
     "metadata": {},
     "output_type": "execute_result"
    }
   ],
   "source": [
    "f.read(1)"
   ]
  },
  {
   "cell_type": "code",
   "execution_count": 25,
   "id": "80841d7f",
   "metadata": {},
   "outputs": [
    {
     "ename": "UnsupportedOperation",
     "evalue": "can't do nonzero end-relative seeks",
     "output_type": "error",
     "traceback": [
      "\u001b[1;31m---------------------------------------------------------------------------\u001b[0m",
      "\u001b[1;31mUnsupportedOperation\u001b[0m                      Traceback (most recent call last)",
      "\u001b[1;32m~\\AppData\\Local\\Temp/ipykernel_25476/1273800031.py\u001b[0m in \u001b[0;36m<module>\u001b[1;34m\u001b[0m\n\u001b[1;32m----> 1\u001b[1;33m \u001b[0mf\u001b[0m\u001b[1;33m.\u001b[0m\u001b[0mseek\u001b[0m\u001b[1;33m(\u001b[0m\u001b[1;33m-\u001b[0m\u001b[1;36m3\u001b[0m\u001b[1;33m,\u001b[0m\u001b[1;36m2\u001b[0m\u001b[1;33m)\u001b[0m\u001b[1;33m\u001b[0m\u001b[1;33m\u001b[0m\u001b[0m\n\u001b[0m",
      "\u001b[1;31mUnsupportedOperation\u001b[0m: can't do nonzero end-relative seeks"
     ]
    }
   ],
   "source": [
    "f.seek(-3,2)"
   ]
  },
  {
   "cell_type": "code",
   "execution_count": 26,
   "id": "0dbe8781",
   "metadata": {},
   "outputs": [
    {
     "data": {
      "text/plain": [
       "2"
      ]
     },
     "execution_count": 26,
     "metadata": {},
     "output_type": "execute_result"
    }
   ],
   "source": [
    "f.seek(2)"
   ]
  },
  {
   "cell_type": "code",
   "execution_count": 27,
   "id": "315d8283",
   "metadata": {},
   "outputs": [
    {
     "ename": "ValueError",
     "evalue": "invalid whence (3, should be 0, 1 or 2)",
     "output_type": "error",
     "traceback": [
      "\u001b[1;31m---------------------------------------------------------------------------\u001b[0m",
      "\u001b[1;31mValueError\u001b[0m                                Traceback (most recent call last)",
      "\u001b[1;32m~\\AppData\\Local\\Temp/ipykernel_25476/334684974.py\u001b[0m in \u001b[0;36m<module>\u001b[1;34m\u001b[0m\n\u001b[1;32m----> 1\u001b[1;33m \u001b[0mf\u001b[0m\u001b[1;33m.\u001b[0m\u001b[0mseek\u001b[0m\u001b[1;33m(\u001b[0m\u001b[1;36m2\u001b[0m\u001b[1;33m,\u001b[0m\u001b[1;36m3\u001b[0m\u001b[1;33m)\u001b[0m\u001b[1;33m\u001b[0m\u001b[1;33m\u001b[0m\u001b[0m\n\u001b[0m",
      "\u001b[1;31mValueError\u001b[0m: invalid whence (3, should be 0, 1 or 2)"
     ]
    }
   ],
   "source": [
    "f.seek(2,3)"
   ]
  },
  {
   "cell_type": "code",
   "execution_count": 28,
   "id": "387727fa",
   "metadata": {},
   "outputs": [],
   "source": [
    "f=open(\"fest1.txt\",\"rb\")"
   ]
  },
  {
   "cell_type": "code",
   "execution_count": 29,
   "id": "d5fc83dc",
   "metadata": {},
   "outputs": [
    {
     "data": {
      "text/plain": [
       "b'kdjfdskfhsjf'"
      ]
     },
     "execution_count": 29,
     "metadata": {},
     "output_type": "execute_result"
    }
   ],
   "source": [
    "f.read()"
   ]
  },
  {
   "cell_type": "code",
   "execution_count": 30,
   "id": "c070789d",
   "metadata": {},
   "outputs": [
    {
     "data": {
      "text/plain": [
       "2"
      ]
     },
     "execution_count": 30,
     "metadata": {},
     "output_type": "execute_result"
    }
   ],
   "source": [
    "f.seek(2)"
   ]
  },
  {
   "cell_type": "code",
   "execution_count": 31,
   "id": "d090f787",
   "metadata": {},
   "outputs": [
    {
     "data": {
      "text/plain": [
       "b'j'"
      ]
     },
     "execution_count": 31,
     "metadata": {},
     "output_type": "execute_result"
    }
   ],
   "source": [
    "f.read(1)"
   ]
  },
  {
   "cell_type": "code",
   "execution_count": 32,
   "id": "84c9783a",
   "metadata": {},
   "outputs": [
    {
     "data": {
      "text/plain": [
       "9"
      ]
     },
     "execution_count": 32,
     "metadata": {},
     "output_type": "execute_result"
    }
   ],
   "source": [
    "f.seek(-3,2)"
   ]
  },
  {
   "cell_type": "code",
   "execution_count": 33,
   "id": "74dde11f",
   "metadata": {},
   "outputs": [
    {
     "ename": "ValueError",
     "evalue": "whence value 3 unsupported",
     "output_type": "error",
     "traceback": [
      "\u001b[1;31m---------------------------------------------------------------------------\u001b[0m",
      "\u001b[1;31mValueError\u001b[0m                                Traceback (most recent call last)",
      "\u001b[1;32m~\\AppData\\Local\\Temp/ipykernel_25476/2630089463.py\u001b[0m in \u001b[0;36m<module>\u001b[1;34m\u001b[0m\n\u001b[1;32m----> 1\u001b[1;33m \u001b[0mf\u001b[0m\u001b[1;33m.\u001b[0m\u001b[0mseek\u001b[0m\u001b[1;33m(\u001b[0m\u001b[1;33m-\u001b[0m\u001b[1;36m3\u001b[0m\u001b[1;33m,\u001b[0m\u001b[1;36m3\u001b[0m\u001b[1;33m)\u001b[0m\u001b[1;33m\u001b[0m\u001b[1;33m\u001b[0m\u001b[0m\n\u001b[0m",
      "\u001b[1;31mValueError\u001b[0m: whence value 3 unsupported"
     ]
    }
   ],
   "source": [
    "f.seek(-3,3)"
   ]
  },
  {
   "cell_type": "code",
   "execution_count": 34,
   "id": "567b99d0",
   "metadata": {},
   "outputs": [
    {
     "ename": "OSError",
     "evalue": "[Errno 22] Invalid argument",
     "output_type": "error",
     "traceback": [
      "\u001b[1;31m---------------------------------------------------------------------------\u001b[0m",
      "\u001b[1;31mOSError\u001b[0m                                   Traceback (most recent call last)",
      "\u001b[1;32m~\\AppData\\Local\\Temp/ipykernel_25476/3169588042.py\u001b[0m in \u001b[0;36m<module>\u001b[1;34m\u001b[0m\n\u001b[1;32m----> 1\u001b[1;33m \u001b[0mf\u001b[0m\u001b[1;33m.\u001b[0m\u001b[0mseek\u001b[0m\u001b[1;33m(\u001b[0m\u001b[1;33m-\u001b[0m\u001b[1;36m3\u001b[0m\u001b[1;33m,\u001b[0m\u001b[1;36m0\u001b[0m\u001b[1;33m)\u001b[0m\u001b[1;33m\u001b[0m\u001b[1;33m\u001b[0m\u001b[0m\n\u001b[0m",
      "\u001b[1;31mOSError\u001b[0m: [Errno 22] Invalid argument"
     ]
    }
   ],
   "source": [
    "f.seek(-3,0)"
   ]
  },
  {
   "cell_type": "code",
   "execution_count": 35,
   "id": "1c59fe13",
   "metadata": {},
   "outputs": [
    {
     "data": {
      "text/plain": [
       "6"
      ]
     },
     "execution_count": 35,
     "metadata": {},
     "output_type": "execute_result"
    }
   ],
   "source": [
    "f.seek(-3,1)"
   ]
  },
  {
   "cell_type": "code",
   "execution_count": 36,
   "id": "1ce426a7",
   "metadata": {},
   "outputs": [
    {
     "data": {
      "text/plain": [
       "8"
      ]
     },
     "execution_count": 36,
     "metadata": {},
     "output_type": "execute_result"
    }
   ],
   "source": [
    "f.seek(-4,2)"
   ]
  },
  {
   "cell_type": "code",
   "execution_count": 37,
   "id": "dbde65ed",
   "metadata": {},
   "outputs": [],
   "source": [
    "f=open(\"fest2.txt\",\"w\")"
   ]
  },
  {
   "cell_type": "code",
   "execution_count": 38,
   "id": "04c77886",
   "metadata": {},
   "outputs": [
    {
     "data": {
      "text/plain": [
       "45"
      ]
     },
     "execution_count": 38,
     "metadata": {},
     "output_type": "execute_result"
    }
   ],
   "source": [
    "f.write(\"dsfh sgdkds dgffiusdg sdgsdiufgs dkgsdk sksdg\")"
   ]
  },
  {
   "cell_type": "code",
   "execution_count": 39,
   "id": "785a8260",
   "metadata": {},
   "outputs": [],
   "source": [
    "f.close()"
   ]
  },
  {
   "cell_type": "code",
   "execution_count": 40,
   "id": "0afacd4a",
   "metadata": {},
   "outputs": [],
   "source": [
    "f=open(\"fest2.txt\",\"r\")"
   ]
  },
  {
   "cell_type": "code",
   "execution_count": 41,
   "id": "d330ac87",
   "metadata": {},
   "outputs": [
    {
     "data": {
      "text/plain": [
       "'dsfh sgdkds dgffiusdg sdgsdiufgs dkgsdk sksdg'"
      ]
     },
     "execution_count": 41,
     "metadata": {},
     "output_type": "execute_result"
    }
   ],
   "source": [
    "f.read()"
   ]
  },
  {
   "cell_type": "code",
   "execution_count": 42,
   "id": "a7b65027",
   "metadata": {},
   "outputs": [
    {
     "data": {
      "text/plain": [
       "'\\niohdfsdih\\ndpjs\\nj \\nf\\nfs\\nfd\\nfs\\ndgfd\\nd\\ndddf\\ndf\\ndf\\ndf\\ndf\\ndf\\ndfgdfgdfg\\nfddgfdg\\nfgdf\\ndfg'"
      ]
     },
     "execution_count": 42,
     "metadata": {},
     "output_type": "execute_result"
    }
   ],
   "source": [
    "f.read()"
   ]
  },
  {
   "cell_type": "code",
   "execution_count": 43,
   "id": "9280a25f",
   "metadata": {},
   "outputs": [
    {
     "data": {
      "text/plain": [
       "0"
      ]
     },
     "execution_count": 43,
     "metadata": {},
     "output_type": "execute_result"
    }
   ],
   "source": [
    "f.seek(0)"
   ]
  },
  {
   "cell_type": "code",
   "execution_count": 44,
   "id": "16ad236e",
   "metadata": {},
   "outputs": [
    {
     "data": {
      "text/plain": [
       "'dsfh sgdkds dgffiusdg sdgsdiufgs dkgsdk sksdg\\n'"
      ]
     },
     "execution_count": 44,
     "metadata": {},
     "output_type": "execute_result"
    }
   ],
   "source": [
    "f.readline()"
   ]
  },
  {
   "cell_type": "code",
   "execution_count": 45,
   "id": "de71c44a",
   "metadata": {},
   "outputs": [
    {
     "data": {
      "text/plain": [
       "'iohdfsdih\\n'"
      ]
     },
     "execution_count": 45,
     "metadata": {},
     "output_type": "execute_result"
    }
   ],
   "source": [
    "f.readline()"
   ]
  },
  {
   "cell_type": "code",
   "execution_count": 46,
   "id": "a04b1b32",
   "metadata": {},
   "outputs": [
    {
     "data": {
      "text/plain": [
       "'dpjs\\n'"
      ]
     },
     "execution_count": 46,
     "metadata": {},
     "output_type": "execute_result"
    }
   ],
   "source": [
    "f.readline()"
   ]
  },
  {
   "cell_type": "code",
   "execution_count": 47,
   "id": "3cde5bbb",
   "metadata": {},
   "outputs": [
    {
     "data": {
      "text/plain": [
       "'j \\n'"
      ]
     },
     "execution_count": 47,
     "metadata": {},
     "output_type": "execute_result"
    }
   ],
   "source": [
    "f.readline()"
   ]
  },
  {
   "cell_type": "code",
   "execution_count": 48,
   "id": "3bde22f7",
   "metadata": {},
   "outputs": [
    {
     "data": {
      "text/plain": [
       "'f\\n'"
      ]
     },
     "execution_count": 48,
     "metadata": {},
     "output_type": "execute_result"
    }
   ],
   "source": [
    "f.readline()"
   ]
  },
  {
   "cell_type": "code",
   "execution_count": 49,
   "id": "e4779417",
   "metadata": {},
   "outputs": [
    {
     "data": {
      "text/plain": [
       "'fs\\n'"
      ]
     },
     "execution_count": 49,
     "metadata": {},
     "output_type": "execute_result"
    }
   ],
   "source": [
    "f.readline()"
   ]
  },
  {
   "cell_type": "code",
   "execution_count": 50,
   "id": "8aebc4cc",
   "metadata": {},
   "outputs": [
    {
     "data": {
      "text/plain": [
       "'fd\\n'"
      ]
     },
     "execution_count": 50,
     "metadata": {},
     "output_type": "execute_result"
    }
   ],
   "source": [
    "f.readline()"
   ]
  },
  {
   "cell_type": "code",
   "execution_count": 51,
   "id": "bd602461",
   "metadata": {},
   "outputs": [
    {
     "data": {
      "text/plain": [
       "'fs\\n'"
      ]
     },
     "execution_count": 51,
     "metadata": {},
     "output_type": "execute_result"
    }
   ],
   "source": [
    "f.readline()"
   ]
  },
  {
   "cell_type": "code",
   "execution_count": 52,
   "id": "8a7f2874",
   "metadata": {},
   "outputs": [
    {
     "data": {
      "text/plain": [
       "'dgfd\\n'"
      ]
     },
     "execution_count": 52,
     "metadata": {},
     "output_type": "execute_result"
    }
   ],
   "source": [
    "f.readline()"
   ]
  },
  {
   "cell_type": "code",
   "execution_count": 53,
   "id": "a7030e6c",
   "metadata": {},
   "outputs": [
    {
     "data": {
      "text/plain": [
       "'d\\n'"
      ]
     },
     "execution_count": 53,
     "metadata": {},
     "output_type": "execute_result"
    }
   ],
   "source": [
    "f.readline()"
   ]
  },
  {
   "cell_type": "code",
   "execution_count": 54,
   "id": "80e5c4ad",
   "metadata": {},
   "outputs": [
    {
     "data": {
      "text/plain": [
       "'dddf\\n'"
      ]
     },
     "execution_count": 54,
     "metadata": {},
     "output_type": "execute_result"
    }
   ],
   "source": [
    "f.readline()"
   ]
  },
  {
   "cell_type": "code",
   "execution_count": 55,
   "id": "9ce4e8d5",
   "metadata": {},
   "outputs": [
    {
     "data": {
      "text/plain": [
       "'df\\n'"
      ]
     },
     "execution_count": 55,
     "metadata": {},
     "output_type": "execute_result"
    }
   ],
   "source": [
    "f.readline()"
   ]
  },
  {
   "cell_type": "code",
   "execution_count": 56,
   "id": "4f02cfa6",
   "metadata": {},
   "outputs": [
    {
     "data": {
      "text/plain": [
       "'df\\n'"
      ]
     },
     "execution_count": 56,
     "metadata": {},
     "output_type": "execute_result"
    }
   ],
   "source": [
    "f.readline()"
   ]
  },
  {
   "cell_type": "code",
   "execution_count": 57,
   "id": "84e8322f",
   "metadata": {},
   "outputs": [
    {
     "data": {
      "text/plain": [
       "'df\\n'"
      ]
     },
     "execution_count": 57,
     "metadata": {},
     "output_type": "execute_result"
    }
   ],
   "source": [
    "f.readline(9)"
   ]
  },
  {
   "cell_type": "code",
   "execution_count": 58,
   "id": "99fcedea",
   "metadata": {},
   "outputs": [
    {
     "ename": "TypeError",
     "evalue": "readline expected at most 1 argument, got 3",
     "output_type": "error",
     "traceback": [
      "\u001b[1;31m---------------------------------------------------------------------------\u001b[0m",
      "\u001b[1;31mTypeError\u001b[0m                                 Traceback (most recent call last)",
      "\u001b[1;32m~\\AppData\\Local\\Temp/ipykernel_25476/1688096350.py\u001b[0m in \u001b[0;36m<module>\u001b[1;34m\u001b[0m\n\u001b[1;32m----> 1\u001b[1;33m \u001b[0mf\u001b[0m\u001b[1;33m.\u001b[0m\u001b[0mreadline\u001b[0m\u001b[1;33m(\u001b[0m\u001b[1;36m2\u001b[0m\u001b[1;33m,\u001b[0m\u001b[1;36m4\u001b[0m\u001b[1;33m,\u001b[0m\u001b[1;36m6\u001b[0m\u001b[1;33m)\u001b[0m\u001b[1;33m\u001b[0m\u001b[1;33m\u001b[0m\u001b[0m\n\u001b[0m",
      "\u001b[1;31mTypeError\u001b[0m: readline expected at most 1 argument, got 3"
     ]
    }
   ],
   "source": [
    "f.readline(2,4,6)"
   ]
  },
  {
   "cell_type": "code",
   "execution_count": 59,
   "id": "efdc8690",
   "metadata": {},
   "outputs": [],
   "source": [
    "f.close()"
   ]
  },
  {
   "cell_type": "code",
   "execution_count": 68,
   "id": "172e2808",
   "metadata": {},
   "outputs": [],
   "source": [
    "f=open(\"fest2.txt\",\"r\")"
   ]
  },
  {
   "cell_type": "code",
   "execution_count": 64,
   "id": "e61a7f66",
   "metadata": {},
   "outputs": [
    {
     "name": "stdout",
     "output_type": "stream",
     "text": [
      "dsfh sgdkds dgffiusdg sdgsdiufgs dkgsdk sksdg\n",
      "\n",
      "iohdfsdih\n",
      "\n",
      "dpjs\n",
      "\n",
      "j \n",
      "\n",
      "f\n",
      "\n",
      "fs\n",
      "\n",
      "fd\n",
      "\n",
      "fs\n",
      "\n",
      "dgfd\n",
      "\n",
      "d\n",
      "\n",
      "dddf\n",
      "\n",
      "df\n",
      "\n",
      "df\n",
      "\n",
      "df\n",
      "\n",
      "df\n",
      "\n",
      "df\n",
      "\n",
      "dfgdfgdfg\n",
      "\n",
      "fddgfdg\n",
      "\n",
      "fgdf\n",
      "\n",
      "dfg\n"
     ]
    }
   ],
   "source": [
    "for i in f:\n",
    "    print(i)"
   ]
  },
  {
   "cell_type": "code",
   "execution_count": 69,
   "id": "c646044a",
   "metadata": {},
   "outputs": [
    {
     "name": "stdout",
     "output_type": "stream",
     "text": [
      "dsfh sgdkds dgffiusdg sdgsdiufgs dkgsdk sksdg\n",
      " iohdfsdih\n",
      " dpjs\n",
      " j \n",
      " f\n",
      " fs\n",
      " fd\n",
      " fs\n",
      " dgfd\n",
      " d\n",
      " dddf\n",
      " df\n",
      " df\n",
      " df\n",
      " df\n",
      " df\n",
      " dfgdfgdfg\n",
      " fddgfdg\n",
      " fgdf\n",
      " dfg "
     ]
    }
   ],
   "source": [
    "for i in f :\n",
    "    print(i ,end = \" \")"
   ]
  },
  {
   "cell_type": "code",
   "execution_count": 70,
   "id": "c83d771e",
   "metadata": {},
   "outputs": [],
   "source": [
    "f.close()"
   ]
  },
  {
   "cell_type": "code",
   "execution_count": 71,
   "id": "9ec868d3",
   "metadata": {},
   "outputs": [],
   "source": [
    "f=open(\"fest2.txt\",\"r\")"
   ]
  },
  {
   "cell_type": "code",
   "execution_count": 72,
   "id": "302de87f",
   "metadata": {},
   "outputs": [
    {
     "data": {
      "text/plain": [
       "['dsfh sgdkds dgffiusdg sdgsdiufgs dkgsdk sksdg\\n',\n",
       " 'iohdfsdih\\n',\n",
       " 'dpjs\\n',\n",
       " 'j \\n',\n",
       " 'f\\n',\n",
       " 'fs\\n',\n",
       " 'fd\\n',\n",
       " 'fs\\n',\n",
       " 'dgfd\\n',\n",
       " 'd\\n',\n",
       " 'dddf\\n',\n",
       " 'df\\n',\n",
       " 'df\\n',\n",
       " 'df\\n',\n",
       " 'df\\n',\n",
       " 'df\\n',\n",
       " 'dfgdfgdfg\\n',\n",
       " 'fddgfdg\\n',\n",
       " 'fgdf\\n',\n",
       " 'dfg']"
      ]
     },
     "execution_count": 72,
     "metadata": {},
     "output_type": "execute_result"
    }
   ],
   "source": [
    "list(f)"
   ]
  },
  {
   "cell_type": "code",
   "execution_count": 73,
   "id": "49e4f4e7",
   "metadata": {},
   "outputs": [],
   "source": [
    "f = open(\"fest2.txt\",\"r+\")"
   ]
  },
  {
   "cell_type": "code",
   "execution_count": 74,
   "id": "8a0c460b",
   "metadata": {
    "scrolled": true
   },
   "outputs": [
    {
     "data": {
      "text/plain": [
       "['dsfh sgdkds dgffiusdg sdgsdiufgs dkgsdk sksdg\\n',\n",
       " 'iohdfsdih\\n',\n",
       " 'dpjs\\n',\n",
       " 'j \\n',\n",
       " 'f\\n',\n",
       " 'fs\\n',\n",
       " 'fd\\n',\n",
       " 'fs\\n',\n",
       " 'dgfd\\n',\n",
       " 'd\\n',\n",
       " 'dddf\\n',\n",
       " 'df\\n',\n",
       " 'df\\n',\n",
       " 'df\\n',\n",
       " 'df\\n',\n",
       " 'df\\n',\n",
       " 'dfgdfgdfg\\n',\n",
       " 'fddgfdg\\n',\n",
       " 'fgdf\\n',\n",
       " 'dfg']"
      ]
     },
     "execution_count": 74,
     "metadata": {},
     "output_type": "execute_result"
    }
   ],
   "source": [
    "list(f)"
   ]
  },
  {
   "cell_type": "code",
   "execution_count": 75,
   "id": "a3ac38d6",
   "metadata": {},
   "outputs": [
    {
     "data": {
      "text/plain": [
       "49"
      ]
     },
     "execution_count": 75,
     "metadata": {},
     "output_type": "execute_result"
    }
   ],
   "source": [
    "f.write(\"jdsfhk dhsf llsdhfl jjfgsd lfs kdgf l dsfhldfh sd\")"
   ]
  },
  {
   "cell_type": "code",
   "execution_count": 76,
   "id": "f5caadd0",
   "metadata": {},
   "outputs": [],
   "source": [
    "f.close()"
   ]
  },
  {
   "cell_type": "code",
   "execution_count": 81,
   "id": "56ede6d7",
   "metadata": {},
   "outputs": [],
   "source": [
    "f=open(\"fest2.txt\",\"r+\")"
   ]
  },
  {
   "cell_type": "code",
   "execution_count": 82,
   "id": "14cc379d",
   "metadata": {},
   "outputs": [],
   "source": [
    "f.writelines(\"kdsks kdsjfgks f skdgfksd ksdjks \")"
   ]
  },
  {
   "cell_type": "code",
   "execution_count": 79,
   "id": "2b269b41",
   "metadata": {},
   "outputs": [],
   "source": [
    "f.close()"
   ]
  },
  {
   "cell_type": "code",
   "execution_count": 84,
   "id": "dfb3ae85",
   "metadata": {},
   "outputs": [
    {
     "data": {
      "text/plain": [
       "345"
      ]
     },
     "execution_count": 84,
     "metadata": {},
     "output_type": "execute_result"
    }
   ],
   "source": [
    "f.seek(345)"
   ]
  },
  {
   "cell_type": "code",
   "execution_count": 85,
   "id": "54133e28",
   "metadata": {},
   "outputs": [],
   "source": [
    "f.writelines(\"djfhflfd knfdljk dfd kdf\")"
   ]
  },
  {
   "cell_type": "code",
   "execution_count": 86,
   "id": "01033a2f",
   "metadata": {},
   "outputs": [],
   "source": [
    "f.close()"
   ]
  },
  {
   "cell_type": "code",
   "execution_count": 87,
   "id": "809ed07e",
   "metadata": {},
   "outputs": [
    {
     "ename": "ValueError",
     "evalue": "I/O operation on closed file",
     "output_type": "error",
     "traceback": [
      "\u001b[1;31m---------------------------------------------------------------------------\u001b[0m",
      "\u001b[1;31mValueError\u001b[0m                                Traceback (most recent call last)",
      "\u001b[1;32m~\\AppData\\Local\\Temp/ipykernel_25476/2575569948.py\u001b[0m in \u001b[0;36m<module>\u001b[1;34m\u001b[0m\n\u001b[1;32m----> 1\u001b[1;33m \u001b[0mf\u001b[0m\u001b[1;33m.\u001b[0m\u001b[0mfileno\u001b[0m\u001b[1;33m(\u001b[0m\u001b[1;33m)\u001b[0m\u001b[1;33m\u001b[0m\u001b[1;33m\u001b[0m\u001b[0m\n\u001b[0m",
      "\u001b[1;31mValueError\u001b[0m: I/O operation on closed file"
     ]
    }
   ],
   "source": [
    "f.fileno()"
   ]
  },
  {
   "cell_type": "code",
   "execution_count": 88,
   "id": "5b495fcd",
   "metadata": {},
   "outputs": [],
   "source": [
    "f=open(\"fest2.txt\",\"r+\")"
   ]
  },
  {
   "cell_type": "code",
   "execution_count": 89,
   "id": "7a603465",
   "metadata": {},
   "outputs": [
    {
     "data": {
      "text/plain": [
       "4"
      ]
     },
     "execution_count": 89,
     "metadata": {},
     "output_type": "execute_result"
    }
   ],
   "source": [
    "f.fileno()"
   ]
  },
  {
   "cell_type": "code",
   "execution_count": 90,
   "id": "2641adfd",
   "metadata": {},
   "outputs": [],
   "source": [
    "f=open(\"fest1.txt\",\"r+\")"
   ]
  },
  {
   "cell_type": "code",
   "execution_count": 91,
   "id": "8eb11aab",
   "metadata": {},
   "outputs": [
    {
     "data": {
      "text/plain": [
       "5"
      ]
     },
     "execution_count": 91,
     "metadata": {},
     "output_type": "execute_result"
    }
   ],
   "source": [
    "f.fileno()"
   ]
  },
  {
   "cell_type": "code",
   "execution_count": 93,
   "id": "ecf1d325",
   "metadata": {},
   "outputs": [
    {
     "name": "stdout",
     "output_type": "stream",
     "text": [
      "Writing fest5.txt\n"
     ]
    }
   ],
   "source": [
    "%%writefile fest5.txt\n",
    "my name is syed"
   ]
  },
  {
   "cell_type": "code",
   "execution_count": 4,
   "id": "cb1da8ba",
   "metadata": {},
   "outputs": [],
   "source": [
    "import os"
   ]
  },
  {
   "cell_type": "code",
   "execution_count": 95,
   "id": "5cd49290",
   "metadata": {},
   "outputs": [
    {
     "data": {
      "text/plain": [
       "'C:\\\\Users\\\\syedf'"
      ]
     },
     "execution_count": 95,
     "metadata": {},
     "output_type": "execute_result"
    }
   ],
   "source": [
    "#present working directory\n",
    "pwd()"
   ]
  },
  {
   "cell_type": "code",
   "execution_count": 96,
   "id": "6691c4d8",
   "metadata": {},
   "outputs": [
    {
     "data": {
      "text/plain": [
       "'C:\\\\Users\\\\syedf'"
      ]
     },
     "execution_count": 96,
     "metadata": {},
     "output_type": "execute_result"
    }
   ],
   "source": [
    "#current working directory\n",
    "os.getcwd()"
   ]
  },
  {
   "cell_type": "code",
   "execution_count": 97,
   "id": "c9c3ac05",
   "metadata": {},
   "outputs": [
    {
     "data": {
      "text/plain": [
       "['-1.14-windows.xml',\n",
       " '.atom',\n",
       " '.conda',\n",
       " '.condarc',\n",
       " '.continuum',\n",
       " '.idlerc',\n",
       " '.ipynb_checkpoints',\n",
       " '.ipython',\n",
       " '.jupyter',\n",
       " '.matplotlib',\n",
       " '.ms-ad',\n",
       " '.Origin',\n",
       " '.python_history',\n",
       " '.QtWebEngineProcess',\n",
       " '.vscode',\n",
       " '3D Objects',\n",
       " 'anaconda3',\n",
       " 'ansel',\n",
       " 'AppData',\n",
       " 'Application Data',\n",
       " 'class python tuple.ipynb',\n",
       " 'Contacts',\n",
       " 'Cookies',\n",
       " 'Creative Cloud Files',\n",
       " 'Documents',\n",
       " 'Downloads',\n",
       " 'Favorites',\n",
       " 'fest.txt',\n",
       " 'fest1.txt',\n",
       " 'fest2.txt',\n",
       " 'fest5.txt',\n",
       " 'file read write.ipynb',\n",
       " 'For loop.ipynb',\n",
       " 'Function part 1 ineu.ipynb',\n",
       " 'Function part 2 ineu.ipynb',\n",
       " 'If condn and while loop.ipynb',\n",
       " 'IntelGraphicsProfiles',\n",
       " 'lambda function.ipynb',\n",
       " 'Links',\n",
       " 'List manipulation and list comprehensive ineu.ipynb',\n",
       " 'Local Settings',\n",
       " 'Music',\n",
       " 'My Documents',\n",
       " 'NCH Software Suite',\n",
       " 'NetHood',\n",
       " 'NTUSER.DAT',\n",
       " 'ntuser.dat.LOG1',\n",
       " 'ntuser.dat.LOG2',\n",
       " 'NTUSER.DAT{1c2b59c6-c5f5-11eb-bacb-000d3a96488e}.TM.blf',\n",
       " 'NTUSER.DAT{1c2b59c6-c5f5-11eb-bacb-000d3a96488e}.TMContainer00000000000000000001.regtrans-ms',\n",
       " 'NTUSER.DAT{1c2b59c6-c5f5-11eb-bacb-000d3a96488e}.TMContainer00000000000000000002.regtrans-ms',\n",
       " 'ntuser.ini',\n",
       " 'OneDrive',\n",
       " 'PrintHood',\n",
       " 'Python basics.ipynb',\n",
       " 'Read & write operation ineu.ipynb',\n",
       " 'Recent',\n",
       " 'Saved Games',\n",
       " 'Scope class.ipynb',\n",
       " 'Searches',\n",
       " 'SendTo',\n",
       " 'Set and Dictionary ineu.ipynb',\n",
       " 'Start Menu',\n",
       " 'String and List manipulation.ipynb',\n",
       " 'Templates',\n",
       " 'test.txt',\n",
       " 'test1.txt',\n",
       " 'test2.txt',\n",
       " 'test5.txt',\n",
       " 'Tuple, set and dictionary ineu.ipynb',\n",
       " 'Untitled.ipynb',\n",
       " 'Untitled1.ipynb',\n",
       " 'Untitled2.ipynb',\n",
       " 'Untitled3.ipynb',\n",
       " 'Untitled4.ipynb',\n",
       " 'Untitled5.ipynb',\n",
       " 'Videos',\n",
       " 'yash.ipynb']"
      ]
     },
     "execution_count": 97,
     "metadata": {},
     "output_type": "execute_result"
    }
   ],
   "source": [
    "os.listdir()"
   ]
  },
  {
   "cell_type": "code",
   "execution_count": 100,
   "id": "248c04d4",
   "metadata": {},
   "outputs": [
    {
     "data": {
      "text/plain": [
       "['-1.14-windows.xml',\n",
       " '.atom',\n",
       " '.conda',\n",
       " '.condarc',\n",
       " '.continuum',\n",
       " '.idlerc',\n",
       " '.ipynb_checkpoints',\n",
       " '.ipython',\n",
       " '.jupyter',\n",
       " '.matplotlib',\n",
       " '.ms-ad',\n",
       " '.Origin',\n",
       " '.python_history',\n",
       " '.QtWebEngineProcess',\n",
       " '.vscode',\n",
       " '3D Objects',\n",
       " 'anaconda3',\n",
       " 'ansel',\n",
       " 'AppData',\n",
       " 'Application Data',\n",
       " 'class python tuple.ipynb',\n",
       " 'Contacts',\n",
       " 'Cookies',\n",
       " 'Creative Cloud Files',\n",
       " 'Documents',\n",
       " 'Downloads',\n",
       " 'Favorites',\n",
       " 'fest.txt',\n",
       " 'fest1.txt',\n",
       " 'fest2.txt',\n",
       " 'fest5.txt',\n",
       " 'file read write.ipynb',\n",
       " 'For loop.ipynb',\n",
       " 'Function part 1 ineu.ipynb',\n",
       " 'Function part 2 ineu.ipynb',\n",
       " 'If condn and while loop.ipynb',\n",
       " 'IntelGraphicsProfiles',\n",
       " 'lambda function.ipynb',\n",
       " 'Links',\n",
       " 'List manipulation and list comprehensive ineu.ipynb',\n",
       " 'Local Settings',\n",
       " 'Music',\n",
       " 'My Documents',\n",
       " 'NCH Software Suite',\n",
       " 'NetHood',\n",
       " 'NTUSER.DAT',\n",
       " 'ntuser.dat.LOG1',\n",
       " 'ntuser.dat.LOG2',\n",
       " 'NTUSER.DAT{1c2b59c6-c5f5-11eb-bacb-000d3a96488e}.TM.blf',\n",
       " 'NTUSER.DAT{1c2b59c6-c5f5-11eb-bacb-000d3a96488e}.TMContainer00000000000000000001.regtrans-ms',\n",
       " 'NTUSER.DAT{1c2b59c6-c5f5-11eb-bacb-000d3a96488e}.TMContainer00000000000000000002.regtrans-ms',\n",
       " 'ntuser.ini',\n",
       " 'OneDrive',\n",
       " 'PrintHood',\n",
       " 'Python basics.ipynb',\n",
       " 'Read & write operation ineu.ipynb',\n",
       " 'Recent',\n",
       " 'Saved Games',\n",
       " 'Scope class.ipynb',\n",
       " 'Searches',\n",
       " 'SendTo',\n",
       " 'Set and Dictionary ineu.ipynb',\n",
       " 'Start Menu',\n",
       " 'String and List manipulation.ipynb',\n",
       " 'Templates',\n",
       " 'test.txt',\n",
       " 'test1.txt',\n",
       " 'test2.txt',\n",
       " 'test5.txt',\n",
       " 'Tuple, set and dictionary ineu.ipynb',\n",
       " 'Untitled.ipynb',\n",
       " 'Untitled1.ipynb',\n",
       " 'Untitled2.ipynb',\n",
       " 'Untitled3.ipynb',\n",
       " 'Untitled4.ipynb',\n",
       " 'Untitled5.ipynb',\n",
       " 'Videos',\n",
       " 'yash.ipynb']"
      ]
     },
     "execution_count": 100,
     "metadata": {},
     "output_type": "execute_result"
    }
   ],
   "source": [
    "#\\\\ or /\n",
    "os.listdir('C:/Users\\\\syedf')"
   ]
  },
  {
   "cell_type": "code",
   "execution_count": 101,
   "id": "c7fc5ad2",
   "metadata": {},
   "outputs": [
    {
     "data": {
      "text/plain": [
       "'C:\\\\Users\\\\syedf'"
      ]
     },
     "execution_count": 101,
     "metadata": {},
     "output_type": "execute_result"
    }
   ],
   "source": [
    "pwd()"
   ]
  },
  {
   "cell_type": "code",
   "execution_count": 102,
   "id": "0dc1d919",
   "metadata": {},
   "outputs": [
    {
     "data": {
      "text/plain": [
       "'C:\\\\Users\\\\syedf'"
      ]
     },
     "execution_count": 102,
     "metadata": {},
     "output_type": "execute_result"
    }
   ],
   "source": [
    "os.getcwd()"
   ]
  },
  {
   "cell_type": "code",
   "execution_count": 103,
   "id": "896ed3a7",
   "metadata": {},
   "outputs": [],
   "source": [
    "os.chdir('Downloads')"
   ]
  },
  {
   "cell_type": "code",
   "execution_count": 104,
   "id": "3d21ccb5",
   "metadata": {},
   "outputs": [
    {
     "data": {
      "text/plain": [
       "'C:\\\\Users\\\\syedf\\\\Downloads'"
      ]
     },
     "execution_count": 104,
     "metadata": {},
     "output_type": "execute_result"
    }
   ],
   "source": [
    "pwd()"
   ]
  },
  {
   "cell_type": "code",
   "execution_count": 105,
   "id": "e60cf395",
   "metadata": {},
   "outputs": [],
   "source": [
    "os.chdir('C:\\\\Users\\\\syedf')"
   ]
  },
  {
   "cell_type": "code",
   "execution_count": 106,
   "id": "ba1b2439",
   "metadata": {},
   "outputs": [
    {
     "data": {
      "text/plain": [
       "'C:\\\\Users\\\\syedf'"
      ]
     },
     "execution_count": 106,
     "metadata": {},
     "output_type": "execute_result"
    }
   ],
   "source": [
    "pwd()"
   ]
  },
  {
   "cell_type": "code",
   "execution_count": 107,
   "id": "6ff53a54",
   "metadata": {},
   "outputs": [],
   "source": [
    "os.mkdir(\"syed\")"
   ]
  },
  {
   "cell_type": "code",
   "execution_count": 108,
   "id": "c6376f87",
   "metadata": {},
   "outputs": [
    {
     "data": {
      "text/plain": [
       "['-1.14-windows.xml',\n",
       " '.atom',\n",
       " '.conda',\n",
       " '.condarc',\n",
       " '.continuum',\n",
       " '.idlerc',\n",
       " '.ipynb_checkpoints',\n",
       " '.ipython',\n",
       " '.jupyter',\n",
       " '.matplotlib',\n",
       " '.ms-ad',\n",
       " '.Origin',\n",
       " '.python_history',\n",
       " '.QtWebEngineProcess',\n",
       " '.vscode',\n",
       " '3D Objects',\n",
       " 'anaconda3',\n",
       " 'ansel',\n",
       " 'AppData',\n",
       " 'Application Data',\n",
       " 'class python tuple.ipynb',\n",
       " 'Contacts',\n",
       " 'Cookies',\n",
       " 'Creative Cloud Files',\n",
       " 'Documents',\n",
       " 'Downloads',\n",
       " 'Favorites',\n",
       " 'fest.txt',\n",
       " 'fest1.txt',\n",
       " 'fest2.txt',\n",
       " 'fest5.txt',\n",
       " 'file read write.ipynb',\n",
       " 'For loop.ipynb',\n",
       " 'Function part 1 ineu.ipynb',\n",
       " 'Function part 2 ineu.ipynb',\n",
       " 'If condn and while loop.ipynb',\n",
       " 'IntelGraphicsProfiles',\n",
       " 'lambda function.ipynb',\n",
       " 'Links',\n",
       " 'List manipulation and list comprehensive ineu.ipynb',\n",
       " 'Local Settings',\n",
       " 'Music',\n",
       " 'My Documents',\n",
       " 'NCH Software Suite',\n",
       " 'NetHood',\n",
       " 'NTUSER.DAT',\n",
       " 'ntuser.dat.LOG1',\n",
       " 'ntuser.dat.LOG2',\n",
       " 'NTUSER.DAT{1c2b59c6-c5f5-11eb-bacb-000d3a96488e}.TM.blf',\n",
       " 'NTUSER.DAT{1c2b59c6-c5f5-11eb-bacb-000d3a96488e}.TMContainer00000000000000000001.regtrans-ms',\n",
       " 'NTUSER.DAT{1c2b59c6-c5f5-11eb-bacb-000d3a96488e}.TMContainer00000000000000000002.regtrans-ms',\n",
       " 'ntuser.ini',\n",
       " 'OneDrive',\n",
       " 'PrintHood',\n",
       " 'Python basics.ipynb',\n",
       " 'Read & write operation ineu.ipynb',\n",
       " 'Recent',\n",
       " 'Saved Games',\n",
       " 'Scope class.ipynb',\n",
       " 'Searches',\n",
       " 'SendTo',\n",
       " 'Set and Dictionary ineu.ipynb',\n",
       " 'Start Menu',\n",
       " 'String and List manipulation.ipynb',\n",
       " 'syed',\n",
       " 'Templates',\n",
       " 'test.txt',\n",
       " 'test1.txt',\n",
       " 'test2.txt',\n",
       " 'test5.txt',\n",
       " 'Tuple, set and dictionary ineu.ipynb',\n",
       " 'Untitled.ipynb',\n",
       " 'Untitled1.ipynb',\n",
       " 'Untitled2.ipynb',\n",
       " 'Untitled3.ipynb',\n",
       " 'Untitled4.ipynb',\n",
       " 'Untitled5.ipynb',\n",
       " 'Videos',\n",
       " 'yash.ipynb']"
      ]
     },
     "execution_count": 108,
     "metadata": {},
     "output_type": "execute_result"
    }
   ],
   "source": [
    "os.listdir()"
   ]
  },
  {
   "cell_type": "code",
   "execution_count": 109,
   "id": "8dd74a25",
   "metadata": {},
   "outputs": [],
   "source": [
    "os.chdir('Downloads')"
   ]
  },
  {
   "cell_type": "code",
   "execution_count": 110,
   "id": "0abcd6d0",
   "metadata": {},
   "outputs": [
    {
     "data": {
      "text/plain": [
       "'C:\\\\Users\\\\syedf\\\\Downloads'"
      ]
     },
     "execution_count": 110,
     "metadata": {},
     "output_type": "execute_result"
    }
   ],
   "source": [
    "pwd()"
   ]
  },
  {
   "cell_type": "code",
   "execution_count": 112,
   "id": "e28bdc61",
   "metadata": {},
   "outputs": [
    {
     "data": {
      "text/plain": [
       "['01 Introduction to Communicatation.pdf',\n",
       " '02 Need of Modulation.pdf',\n",
       " '13th jan python string and list manupulation.ipynb',\n",
       " '20220505_152832 (1).pdf',\n",
       " '20220505_152832.pdf',\n",
       " '4kvideodownloader_4.20.4_x64_online.exe',\n",
       " 'Adobe Scan 08 Jun 2022.pdf',\n",
       " 'Adobe Scan 09 Jul 2022 (2) (1).pdf',\n",
       " 'Adobe Scan 09 Jul 2022 (2).pdf',\n",
       " 'Adobe Scan 20 Jan 2022.pdf',\n",
       " 'Adobe Scan 21 Jan 2022 (1).pdf',\n",
       " 'Adobe Scan 24 Jan 2022.pdf',\n",
       " 'Adobe Scan 30 Nov 2021.pdf',\n",
       " 'aliza bday.mov',\n",
       " 'aliza bday.mp4',\n",
       " 'Amplitude Shift Keying-merged (1).pdf',\n",
       " 'Amplitude Shift Keying-merged.pdf',\n",
       " 'Anaconda3-2021.11-Windows-x86_64.exe',\n",
       " 'analog circuit lab exp2.pdf',\n",
       " 'AnyDesk (1).exe',\n",
       " 'AnyDesk.exe',\n",
       " \"Arham's bday.mp4\",\n",
       " 'AtomSetup-x64.exe',\n",
       " 'audacity-win-3.1.3-64bit.exe',\n",
       " 'Avengers Infinity War (2018) 1080p 10bit BluRay x265 HEVC [Org BD 5.1 Hindi + 8CH Eng] ESubs ~ Jitu.mkv',\n",
       " 'B.Tech. 2nd Year EC&EI AICTE Model Curriculum 2019-20.pdf',\n",
       " 'Big Hero 6 (2014) x264 720p BluRay {Dual Audio} [Hindi DD 2.0 + English 2.0] Exclusive By DREDD',\n",
       " 'BlueStacks10Installer_0.18.7.1_native.exe',\n",
       " 'BlueStacks10Installer_0.18.7.1_native_7d30f816ecc026a3bc04431ed15c47d9_0.exe',\n",
       " 'CC132-PreernRollUpdate.xlsx',\n",
       " 'ChromeSetup.exe',\n",
       " 'Communication Engineering Quantum EC 2nd Year.pdf',\n",
       " 'Communication lab (1).pdf',\n",
       " 'Communication lab.pdf',\n",
       " 'conditional probability & bayes theorm.pdf',\n",
       " 'control charts.pdf',\n",
       " 'DaVinci_Resolve_17.4.6_Windows.zip',\n",
       " 'DEMMUQ_BoardingPass.pdf',\n",
       " 'desktop.ini',\n",
       " 'DocScanner 14 Jun 2022 19-04.pdf',\n",
       " 'Engineering Maths Quantum(ask).pdf',\n",
       " 'EpicInstaller-13.3.0-36ce3590a54d4d83b8282bb544409c32.msi',\n",
       " 'experiment no 3.pdf',\n",
       " 'FoxitPDFReader111_Setup.exe',\n",
       " 'fun10.py',\n",
       " 'Grand Theft Auto V [FitGirl Repack]',\n",
       " 'HandBrake-1.5.1-x86_64-Win_GUI.exe',\n",
       " 'Happy Birthday song.mp3',\n",
       " 'Homogeneous PDE.pdf',\n",
       " 'Human value.pdf',\n",
       " 'IGI pack',\n",
       " 'Image to PDF 20220709 11.26.22.pdf',\n",
       " 'img.jpg',\n",
       " 'Just!ce.Le@gue.$nyders.Cut.2021.1080p.W3BR!p.H!nd!-3ngl!sh.x264-K@tm0v!eHD.mkv',\n",
       " 'Maths IV_assignment 1.pdf',\n",
       " 'Messenger.159.0.0.23.221.exe',\n",
       " 'MicrosoftTeams-x64 (1).msix',\n",
       " 'MicrosoftTeams-x64.msix',\n",
       " 'Mobile prediction (1).pdf',\n",
       " 'Mobile prediction.pdf',\n",
       " 'moments.pdf',\n",
       " 'Most Eligible Bachelor 2021 Hindi (HQ Dubbed) Dual Audio www.downlodhub.us 480p UNCUT HDRip x264.html',\n",
       " 'mysql-installer-community-8.0.29.0.msi',\n",
       " 'Need For Speed Most Wanted Black Edition repack Mr DJ',\n",
       " 'OS final2.pdf',\n",
       " 'pexels-adrien-olichon-2823459.jpg',\n",
       " 'pexels-albin-berlin-919073.jpg',\n",
       " 'pexels-aleksandar-pasaric-2603464.jpg',\n",
       " 'pexels-alex-fu-1302436.jpg',\n",
       " 'pexels-bess-hamiti-36764.jpg',\n",
       " 'pexels-brakou-abdelghani-1723637.jpg',\n",
       " 'pexels-designecologist-887349.jpg',\n",
       " 'pexels-dorran-1643280.jpg',\n",
       " 'pexels-eberhard-grossgasteiger-1421903 (1).jpg',\n",
       " 'pexels-eberhard-grossgasteiger-1699020.jpg',\n",
       " 'pexels-eberhard-grossgasteiger-2098427.jpg',\n",
       " 'pexels-hani-hakkam-7774931.jpg',\n",
       " 'pexels-harun-tan-3980364.jpg',\n",
       " 'pexels-ivan-bertolazzi-2681319.jpg',\n",
       " 'pexels-joão-jesus-925743.jpg',\n",
       " 'pexels-mohamed-khaled-397998.jpg',\n",
       " 'pexels-pixabay-258109.jpg',\n",
       " 'pexels-pixabay-33545.jpg',\n",
       " 'pexels-pixabay-35888.jpg',\n",
       " 'pexels-pixabay-414144.jpg',\n",
       " 'pexels-pixabay-67823.jpg',\n",
       " 'pexels-rahul-695644.jpg',\n",
       " 'pexels-rahul-pandit-1212487.jpg',\n",
       " 'pexels-roberto-nickson-2486168.jpg',\n",
       " 'pexels-sebastiaan-stam-1480690.jpg',\n",
       " 'pexels-sharad-kachhi-3937174.jpg',\n",
       " 'pexels-vlad-bagacian-1258333.jpg',\n",
       " 'physics notes.pdf',\n",
       " 'POS (1).docx',\n",
       " 'POS.docx',\n",
       " 'Python certificate.pdf',\n",
       " 'Python Programming.pdf',\n",
       " 'python-3.10.1-amd64.exe',\n",
       " 'python-3.10.5-amd64.exe',\n",
       " 'pythonPractical.pdf',\n",
       " 'regression.pdf',\n",
       " 'RobloxPlayerLauncher.exe',\n",
       " 'rohitosfinal.pdf',\n",
       " 'SAKSHI.docx',\n",
       " 'Sample Application formats.pdf',\n",
       " 'SANOOR TEA.pptx',\n",
       " 'spark-nlp-bert-covid-19.ipynb',\n",
       " 'SteamSetup.exe',\n",
       " 't test,F test , Annova.pdf',\n",
       " 'Teams_windows_x64.exe',\n",
       " 'Telegram Desktop',\n",
       " 'The.New.Mutants.2020.720p.BluRay.Hindi.Dub.Dual-Audio.x264-1XBET.mkv',\n",
       " 'To write a python program that takes in command line arguments as input and print the number of arguments.docx',\n",
       " 'tsetup-x64.4.0.2.exe',\n",
       " 'Tumse Mohabbat hai - jalraj   Slowed Reverb   Midnight Chill.mp3',\n",
       " 'UM21047_RTPCR.pdf',\n",
       " 'Unconfirmed 741442.crdownload',\n",
       " 'unit 2 (human value).pdf',\n",
       " 'Unit 3 (UHV).pdf',\n",
       " 'Unit 4 (UHV) till taught.pdf',\n",
       " 'Unit-1 (1).pdf',\n",
       " 'Unit-1.pdf',\n",
       " 'Unit-2 Angle Modulation (1).pdf',\n",
       " 'Unit-2 Angle Modulation.pdf',\n",
       " 'Unit-2 Frequency Modulation (1).pdf',\n",
       " 'Unit-2 Frequency Modulation.pdf',\n",
       " 'Unit-2-Part-1 _Introduction and Op-amp Appliction.pdf',\n",
       " 'unit-3(2nd part) (1).pdf',\n",
       " 'unit-3(2nd part).pdf',\n",
       " 'Untitled.mp4',\n",
       " 'videopadsetup64.exe',\n",
       " 'vlc-3.0.16-win32.exe',\n",
       " 'VSCodeUserSetup-x64-1.68.0.exe',\n",
       " 'WhatsApp Image 2022-07-12 at 2.48.13 PM.jpeg',\n",
       " 'WhatsApp Image 2022-07-23 at 5.35.27 PM.jpeg',\n",
       " 'WhatsApp Image 2022-07-23 at 5.35.28 PM (1).jpeg',\n",
       " 'WhatsApp Image 2022-07-23 at 5.35.28 PM.jpeg',\n",
       " 'WhatsApp Image 2022-07-23 at 5.35.29 PM (1).jpeg',\n",
       " 'WhatsApp Image 2022-07-23 at 5.35.29 PM.jpeg',\n",
       " 'WhatsApp Image 2022-07-23 at 5.37.30 PM (1).jpeg',\n",
       " 'WhatsApp Image 2022-07-23 at 5.37.30 PM.jpeg',\n",
       " 'WhatsApp Image 2022-07-23 at 6.56.59 PM.jpeg',\n",
       " 'WhatsApp Image 2022-07-23 at 6.57.00 PM.jpeg',\n",
       " 'WhatsApp Image 2022-07-23 at 7.00.28 PM.jpeg',\n",
       " 'WhatsApp Image 2022-08-21 at 12.29.46 AM-removebg-preview (1).jpg',\n",
       " 'WhatsApp Image 2022-08-21 at 12.29.46 AM-removebg-preview.jpg',\n",
       " 'WhatsApp Image 2022-08-21 at 12.29.46 AM.jpeg',\n",
       " 'WhatsApp Unknown 2022-07-12 at 2.51.29 PM.zip',\n",
       " 'WhatsApp Unknown 2022-07-23 at 5.31.15 PM',\n",
       " 'WhatsApp Unknown 2022-07-23 at 5.31.15 PM.zip',\n",
       " 'WhatsApp Video 2022-01-20 at 3.20.49 AM.mp4',\n",
       " 'WhatsApp Video 2022-02-06 at 9.25.07 PM.mp4',\n",
       " 'WindowsPCHealthCheckSetup.msi',\n",
       " 'winrar-x64-611.exe',\n",
       " 'YASH os file (2).docx',\n",
       " 'YASH os file.docx',\n",
       " 'YE mera mashla hai ki mujhe tumse muhbbat hai.mp4',\n",
       " '~WRL0005.tmp']"
      ]
     },
     "execution_count": 112,
     "metadata": {},
     "output_type": "execute_result"
    }
   ],
   "source": [
    "os.listdir()"
   ]
  },
  {
   "cell_type": "code",
   "execution_count": 113,
   "id": "dbbe16eb",
   "metadata": {},
   "outputs": [
    {
     "ename": "NameError",
     "evalue": "name 'fest' is not defined",
     "output_type": "error",
     "traceback": [
      "\u001b[1;31m---------------------------------------------------------------------------\u001b[0m",
      "\u001b[1;31mNameError\u001b[0m                                 Traceback (most recent call last)",
      "\u001b[1;32m~\\AppData\\Local\\Temp/ipykernel_25476/3404009268.py\u001b[0m in \u001b[0;36m<module>\u001b[1;34m\u001b[0m\n\u001b[1;32m----> 1\u001b[1;33m \u001b[1;32mif\u001b[0m \u001b[0mfest\u001b[0m\u001b[1;33m.\u001b[0m\u001b[0mtxt\u001b[0m \u001b[1;32min\u001b[0m \u001b[0mos\u001b[0m\u001b[1;33m.\u001b[0m\u001b[0mlistdir\u001b[0m\u001b[1;33m(\u001b[0m\u001b[1;33m)\u001b[0m\u001b[1;33m:\u001b[0m\u001b[1;33m\u001b[0m\u001b[1;33m\u001b[0m\u001b[0m\n\u001b[0m\u001b[0;32m      2\u001b[0m     \u001b[0mprint\u001b[0m\u001b[1;33m(\u001b[0m\u001b[1;34m\" my file is available in this dir\"\u001b[0m\u001b[1;33m)\u001b[0m\u001b[1;33m\u001b[0m\u001b[1;33m\u001b[0m\u001b[0m\n",
      "\u001b[1;31mNameError\u001b[0m: name 'fest' is not defined"
     ]
    }
   ],
   "source": [
    "if fest.txt in os.listdir():\n",
    "    print(\" my file is available in this dir\")"
   ]
  },
  {
   "cell_type": "code",
   "execution_count": 114,
   "id": "8f276f1b",
   "metadata": {},
   "outputs": [],
   "source": [
    "os.chdir('C:\\\\Users\\\\syedf')"
   ]
  },
  {
   "cell_type": "code",
   "execution_count": 115,
   "id": "ec7bb152",
   "metadata": {},
   "outputs": [
    {
     "data": {
      "text/plain": [
       "'C:\\\\Users\\\\syedf'"
      ]
     },
     "execution_count": 115,
     "metadata": {},
     "output_type": "execute_result"
    }
   ],
   "source": [
    "pwd()"
   ]
  },
  {
   "cell_type": "code",
   "execution_count": 116,
   "id": "89656d85",
   "metadata": {},
   "outputs": [
    {
     "name": "stdout",
     "output_type": "stream",
     "text": [
      " my file is available in this dir\n"
     ]
    }
   ],
   "source": [
    "if \"fest.txt\" in os.listdir():\n",
    "    print(\" my file is available in this dir\")"
   ]
  },
  {
   "cell_type": "code",
   "execution_count": 121,
   "id": "bbea9477",
   "metadata": {},
   "outputs": [
    {
     "name": "stdout",
     "output_type": "stream",
     "text": [
      " my file is available in this dir\n",
      "<_io.TextIOWrapper name='fest2.txt' mode='r+' encoding='cp1252'>\n"
     ]
    }
   ],
   "source": [
    "if \"fest2.txt\" in os.listdir():\n",
    "    print(\" my file is available in this dir\")\n",
    "    f = open(\"fest2.txt\",\"r+\")\n",
    "    print(f)\n",
    "else :\n",
    "    print(\" no this file is not available in this dir\")"
   ]
  },
  {
   "cell_type": "code",
   "execution_count": 122,
   "id": "7fecff4b",
   "metadata": {},
   "outputs": [
    {
     "name": "stdout",
     "output_type": "stream",
     "text": [
      " my file is available in this dir\n",
      "kdsks kdsjfgks f skdgfksd ksdjks dkgsdk sksdg\n",
      "\n",
      "iohdfsdih\n",
      "\n",
      "dpjs\n",
      "\n",
      "j \n",
      "\n",
      "f\n",
      "\n",
      "fs\n",
      "\n",
      "fd\n",
      "\n",
      "fs\n",
      "\n",
      "dgfd\n",
      "\n",
      "d\n",
      "\n",
      "dddf\n",
      "\n",
      "df\n",
      "\n",
      "df\n",
      "\n",
      "df\n",
      "\n",
      "df\n",
      "\n",
      "df\n",
      "\n",
      "dfgdfgdfg\n",
      "\n",
      "fddgfdg\n",
      "\n",
      "fgdf\n",
      "\n",
      "dfgjdsfhk dhsf llsdhfl jjfgsd lfs kdgf l dsfhldfh sd\u0000\u0000\u0000\u0000\u0000\u0000\u0000\u0000\u0000\u0000\u0000\u0000\u0000\u0000\u0000\u0000\u0000\u0000\u0000\u0000\u0000\u0000\u0000\u0000\u0000\u0000\u0000\u0000\u0000\u0000\u0000\u0000\u0000\u0000\u0000\u0000\u0000\u0000\u0000\u0000\u0000\u0000\u0000\u0000\u0000\u0000\u0000\u0000\u0000\u0000\u0000\u0000\u0000\u0000\u0000\u0000\u0000\u0000\u0000\u0000\u0000\u0000\u0000\u0000\u0000\u0000\u0000\u0000\u0000\u0000\u0000\u0000\u0000\u0000\u0000\u0000\u0000\u0000\u0000\u0000\u0000\u0000\u0000\u0000\u0000\u0000\u0000\u0000\u0000\u0000\u0000\u0000\u0000\u0000\u0000\u0000\u0000\u0000\u0000\u0000\u0000\u0000\u0000\u0000\u0000\u0000\u0000\u0000\u0000\u0000\u0000\u0000\u0000\u0000\u0000\u0000\u0000\u0000\u0000\u0000\u0000\u0000\u0000\u0000\u0000\u0000\u0000\u0000\u0000\u0000\u0000\u0000\u0000\u0000\u0000\u0000\u0000\u0000\u0000\u0000\u0000\u0000\u0000\u0000\u0000\u0000\u0000\u0000\u0000\u0000\u0000\u0000\u0000\u0000\u0000\u0000\u0000\u0000\u0000\u0000\u0000\u0000\u0000\u0000\u0000\u0000\u0000\u0000djfhflfd knfdljk dfd kdf\n"
     ]
    }
   ],
   "source": [
    "if \"fest2.txt\" in os.listdir():\n",
    "    print(\" my file is available in this dir\")\n",
    "    f = open(\"fest2.txt\",\"r+\")\n",
    "    for i in f:\n",
    "        print(i)\n",
    "else :\n",
    "    print(\" no this file is not available in this dir\")"
   ]
  },
  {
   "cell_type": "code",
   "execution_count": 123,
   "id": "ebdff6bf",
   "metadata": {},
   "outputs": [
    {
     "ename": "FileExistsError",
     "evalue": "[WinError 183] Cannot create a file when that file already exists: 'syed'",
     "output_type": "error",
     "traceback": [
      "\u001b[1;31m---------------------------------------------------------------------------\u001b[0m",
      "\u001b[1;31mFileExistsError\u001b[0m                           Traceback (most recent call last)",
      "\u001b[1;32m~\\AppData\\Local\\Temp/ipykernel_25476/1273590630.py\u001b[0m in \u001b[0;36m<module>\u001b[1;34m\u001b[0m\n\u001b[1;32m----> 1\u001b[1;33m \u001b[0mos\u001b[0m\u001b[1;33m.\u001b[0m\u001b[0mmkdir\u001b[0m\u001b[1;33m(\u001b[0m\u001b[1;34m\"syed\"\u001b[0m\u001b[1;33m)\u001b[0m\u001b[1;33m\u001b[0m\u001b[1;33m\u001b[0m\u001b[0m\n\u001b[0m",
      "\u001b[1;31mFileExistsError\u001b[0m: [WinError 183] Cannot create a file when that file already exists: 'syed'"
     ]
    }
   ],
   "source": [
    "os.mkdir(\"syed\")"
   ]
  },
  {
   "cell_type": "code",
   "execution_count": 124,
   "id": "f0763005",
   "metadata": {},
   "outputs": [],
   "source": [
    "if not os.path.isdir(\"syed\"):\n",
    "    os.mkdir(\"syed\")"
   ]
  },
  {
   "cell_type": "code",
   "execution_count": 5,
   "id": "65ad4c58",
   "metadata": {},
   "outputs": [
    {
     "ename": "FileNotFoundError",
     "evalue": "[WinError 2] The system cannot find the file specified: 'fest1.txt' -> 'xyz.txt'",
     "output_type": "error",
     "traceback": [
      "\u001b[1;31m---------------------------------------------------------------------------\u001b[0m",
      "\u001b[1;31mFileNotFoundError\u001b[0m                         Traceback (most recent call last)",
      "\u001b[1;32m~\\AppData\\Local\\Temp/ipykernel_25548/2953128085.py\u001b[0m in \u001b[0;36m<module>\u001b[1;34m\u001b[0m\n\u001b[1;32m----> 1\u001b[1;33m \u001b[0mos\u001b[0m\u001b[1;33m.\u001b[0m\u001b[0mrename\u001b[0m\u001b[1;33m(\u001b[0m\u001b[1;34m\"fest1.txt\"\u001b[0m\u001b[1;33m,\u001b[0m\u001b[1;34m\"xyz.txt\"\u001b[0m\u001b[1;33m)\u001b[0m\u001b[1;33m\u001b[0m\u001b[1;33m\u001b[0m\u001b[0m\n\u001b[0m",
      "\u001b[1;31mFileNotFoundError\u001b[0m: [WinError 2] The system cannot find the file specified: 'fest1.txt' -> 'xyz.txt'"
     ]
    }
   ],
   "source": [
    "os.rename(\"fest1.txt\",\"xyz.txt\")"
   ]
  },
  {
   "cell_type": "code",
   "execution_count": 127,
   "id": "5beb7a7a",
   "metadata": {},
   "outputs": [],
   "source": [
    "os.rmdir(\"syed\")"
   ]
  },
  {
   "cell_type": "code",
   "execution_count": 6,
   "id": "2c7fb7d2",
   "metadata": {},
   "outputs": [
    {
     "ename": "Error",
     "evalue": "Destination path 'C:\\Users\\syedf' already exists",
     "output_type": "error",
     "traceback": [
      "\u001b[1;31m---------------------------------------------------------------------------\u001b[0m",
      "\u001b[1;31mError\u001b[0m                                     Traceback (most recent call last)",
      "\u001b[1;32m~\\AppData\\Local\\Temp/ipykernel_25548/2072170438.py\u001b[0m in \u001b[0;36m<module>\u001b[1;34m\u001b[0m\n\u001b[0;32m      1\u001b[0m \u001b[1;32mimport\u001b[0m \u001b[0mshutil\u001b[0m\u001b[1;33m\u001b[0m\u001b[1;33m\u001b[0m\u001b[0m\n\u001b[0;32m      2\u001b[0m \u001b[1;33m\u001b[0m\u001b[0m\n\u001b[1;32m----> 3\u001b[1;33m \u001b[0mshutil\u001b[0m\u001b[1;33m.\u001b[0m\u001b[0mmove\u001b[0m\u001b[1;33m(\u001b[0m\u001b[1;34m'C:\\\\Users\\\\syedf'\u001b[0m\u001b[1;33m,\u001b[0m \u001b[1;34m'C:\\\\Users'\u001b[0m \u001b[1;33m)\u001b[0m\u001b[1;33m\u001b[0m\u001b[1;33m\u001b[0m\u001b[0m\n\u001b[0m",
      "\u001b[1;32m~\\anaconda3\\lib\\shutil.py\u001b[0m in \u001b[0;36mmove\u001b[1;34m(src, dst, copy_function)\u001b[0m\n\u001b[0;32m    810\u001b[0m \u001b[1;33m\u001b[0m\u001b[0m\n\u001b[0;32m    811\u001b[0m         \u001b[1;32mif\u001b[0m \u001b[0mos\u001b[0m\u001b[1;33m.\u001b[0m\u001b[0mpath\u001b[0m\u001b[1;33m.\u001b[0m\u001b[0mexists\u001b[0m\u001b[1;33m(\u001b[0m\u001b[0mreal_dst\u001b[0m\u001b[1;33m)\u001b[0m\u001b[1;33m:\u001b[0m\u001b[1;33m\u001b[0m\u001b[1;33m\u001b[0m\u001b[0m\n\u001b[1;32m--> 812\u001b[1;33m             \u001b[1;32mraise\u001b[0m \u001b[0mError\u001b[0m\u001b[1;33m(\u001b[0m\u001b[1;34m\"Destination path '%s' already exists\"\u001b[0m \u001b[1;33m%\u001b[0m \u001b[0mreal_dst\u001b[0m\u001b[1;33m)\u001b[0m\u001b[1;33m\u001b[0m\u001b[1;33m\u001b[0m\u001b[0m\n\u001b[0m\u001b[0;32m    813\u001b[0m     \u001b[1;32mtry\u001b[0m\u001b[1;33m:\u001b[0m\u001b[1;33m\u001b[0m\u001b[1;33m\u001b[0m\u001b[0m\n\u001b[0;32m    814\u001b[0m         \u001b[0mos\u001b[0m\u001b[1;33m.\u001b[0m\u001b[0mrename\u001b[0m\u001b[1;33m(\u001b[0m\u001b[0msrc\u001b[0m\u001b[1;33m,\u001b[0m \u001b[0mreal_dst\u001b[0m\u001b[1;33m)\u001b[0m\u001b[1;33m\u001b[0m\u001b[1;33m\u001b[0m\u001b[0m\n",
      "\u001b[1;31mError\u001b[0m: Destination path 'C:\\Users\\syedf' already exists"
     ]
    }
   ],
   "source": [
    "import shutil\n",
    "\n",
    "shutil.move('C:\\\\Users\\\\syedf', 'C:\\\\Users' )"
   ]
  },
  {
   "cell_type": "code",
   "execution_count": 7,
   "id": "dde39e88",
   "metadata": {},
   "outputs": [
    {
     "data": {
      "text/plain": [
       "'C:\\\\Users\\\\syedf'"
      ]
     },
     "execution_count": 7,
     "metadata": {},
     "output_type": "execute_result"
    }
   ],
   "source": [
    "pwd()"
   ]
  },
  {
   "cell_type": "code",
   "execution_count": null,
   "id": "b269cf09",
   "metadata": {},
   "outputs": [],
   "source": [
    "\"\"\"os.mkdir(\"Yusuf\")\n",
    "os.chdir(\"./Yusuf\")\n",
    "\n",
    "for i in range(1,11):\n",
    "    f=open(f'test_{i}.txt','w')\n",
    "    f.write('hello')\n",
    "    f.close()\"\"\""
   ]
  },
  {
   "cell_type": "code",
   "execution_count": 10,
   "id": "89255701",
   "metadata": {},
   "outputs": [],
   "source": [
    "os.mkdir(\"Yusuf\")\n",
    "os.chdir(\"./Yusuf\")\n",
    "\n",
    "\n",
    "for i in range(1,11):\n",
    "    f=open(f'test_{i}.txt','w')\n",
    "    f.write('hello')\n",
    "    f.close()"
   ]
  },
  {
   "cell_type": "code",
   "execution_count": 9,
   "id": "d64d7e7e",
   "metadata": {},
   "outputs": [],
   "source": [
    "\n",
    "for i in range(1,11):\n",
    "    f=open(f'test_{i}.txt','w')\n",
    "    f.write('hello')\n",
    "    f.close()"
   ]
  },
  {
   "cell_type": "code",
   "execution_count": 11,
   "id": "57e679f5",
   "metadata": {},
   "outputs": [
    {
     "data": {
      "text/plain": [
       "'C:\\\\Users\\\\syedf\\\\Yusuf\\\\Yusuf'"
      ]
     },
     "execution_count": 11,
     "metadata": {},
     "output_type": "execute_result"
    }
   ],
   "source": [
    "pwd()"
   ]
  },
  {
   "cell_type": "code",
   "execution_count": 16,
   "id": "1436a3a5",
   "metadata": {},
   "outputs": [
    {
     "ename": "OSError",
     "evalue": "[WinError 145] The directory is not empty: 'Yusuf'",
     "output_type": "error",
     "traceback": [
      "\u001b[1;31m---------------------------------------------------------------------------\u001b[0m",
      "\u001b[1;31mOSError\u001b[0m                                   Traceback (most recent call last)",
      "\u001b[1;32m~\\AppData\\Local\\Temp/ipykernel_25548/3143108280.py\u001b[0m in \u001b[0;36m<module>\u001b[1;34m\u001b[0m\n\u001b[1;32m----> 1\u001b[1;33m \u001b[0mos\u001b[0m\u001b[1;33m.\u001b[0m\u001b[0mrmdir\u001b[0m\u001b[1;33m(\u001b[0m\u001b[1;34m\"Yusuf\"\u001b[0m\u001b[1;33m)\u001b[0m\u001b[1;33m\u001b[0m\u001b[1;33m\u001b[0m\u001b[0m\n\u001b[0m",
      "\u001b[1;31mOSError\u001b[0m: [WinError 145] The directory is not empty: 'Yusuf'"
     ]
    }
   ],
   "source": [
    "os.rmdir(\"Yusuf\")"
   ]
  },
  {
   "cell_type": "code",
   "execution_count": 14,
   "id": "ad9cbbd6",
   "metadata": {},
   "outputs": [],
   "source": [
    "os.chdir('C:\\\\Users\\\\syedf')"
   ]
  },
  {
   "cell_type": "code",
   "execution_count": 15,
   "id": "b7d96092",
   "metadata": {},
   "outputs": [
    {
     "data": {
      "text/plain": [
       "'C:\\\\Users\\\\syedf'"
      ]
     },
     "execution_count": 15,
     "metadata": {},
     "output_type": "execute_result"
    }
   ],
   "source": [
    "pwd()"
   ]
  },
  {
   "cell_type": "code",
   "execution_count": 20,
   "id": "79e2b06a",
   "metadata": {},
   "outputs": [
    {
     "name": "stdout",
     "output_type": "stream",
     "text": [
      "My name is Syed Yusuf  \n",
      "My name is Syed Yusuf  \n",
      "My name is Syed Yusuf  \n",
      "My name is Syed Yusuf  \n",
      "My name is Syed Yusuf  \n",
      "My name is Syed Yusuf  \n",
      "My name is Syed Yusuf  \n",
      "My name is Syed Yusuf  \n",
      "My name is Syed Yusuf  \n",
      "My name is Syed Yusuf  \n",
      "['My name is Syed Yusuf  ', 'My name is Syed Yusuf  ', 'My name is Syed Yusuf  ', 'My name is Syed Yusuf  ', 'My name is Syed Yusuf  ', 'My name is Syed Yusuf  ', 'My name is Syed Yusuf  ', 'My name is Syed Yusuf  ', 'My name is Syed Yusuf  ', 'My name is Syed Yusuf  ']\n"
     ]
    }
   ],
   "source": [
    "os.mkdir(\"FAYE\")\n",
    "os.chdir(os.getcwd()+\"\\FAYE\") \n",
    "for i in range(10): \n",
    "    file = \"test\"+str(i)+\".txt\"\n",
    "    f = open(file, 'w')\n",
    "    f.write(\"My name is Syed Yusuf  \")\n",
    "    f.close()\n",
    "\n",
    "for i in range(10):\n",
    "    file = \"test\" + str(i)+\".txt\"\n",
    "    f = open(file, 'r')\n",
    "    data = f.read() \n",
    "    f.close()\n",
    "    print(data)\n",
    "\n",
    "l = []\n",
    "for i in range(10):\n",
    "    file = \"test\"+str(i)+\".txt\"\n",
    "    f= open(file, 'r') \n",
    "    l.append(f.read())\n",
    "    f.close()\n",
    "\n",
    "print(l)\n",
    "\n",
    "f = open('new_file.txt', 'w')\n",
    "for i in l:\n",
    "    f.write(i)\n",
    "f.close()\n"
   ]
  },
  {
   "cell_type": "code",
   "execution_count": 21,
   "id": "94388026",
   "metadata": {},
   "outputs": [
    {
     "data": {
      "text/plain": [
       "'C:\\\\Users\\\\syedf\\\\FAYE\\\\FAYE\\\\FAYE'"
      ]
     },
     "execution_count": 21,
     "metadata": {},
     "output_type": "execute_result"
    }
   ],
   "source": [
    "pwd()"
   ]
  },
  {
   "cell_type": "code",
   "execution_count": 22,
   "id": "a7049fb4",
   "metadata": {},
   "outputs": [],
   "source": [
    "os.chdir('C:\\\\Users\\\\syedf')"
   ]
  },
  {
   "cell_type": "code",
   "execution_count": 23,
   "id": "3d802b07",
   "metadata": {},
   "outputs": [
    {
     "data": {
      "text/plain": [
       "'C:\\\\Users\\\\syedf'"
      ]
     },
     "execution_count": 23,
     "metadata": {},
     "output_type": "execute_result"
    }
   ],
   "source": [
    "pwd()"
   ]
  },
  {
   "cell_type": "code",
   "execution_count": null,
   "id": "0de25953",
   "metadata": {},
   "outputs": [],
   "source": []
  }
 ],
 "metadata": {
  "kernelspec": {
   "display_name": "Python 3 (ipykernel)",
   "language": "python",
   "name": "python3"
  },
  "language_info": {
   "codemirror_mode": {
    "name": "ipython",
    "version": 3
   },
   "file_extension": ".py",
   "mimetype": "text/x-python",
   "name": "python",
   "nbconvert_exporter": "python",
   "pygments_lexer": "ipython3",
   "version": "3.9.7"
  }
 },
 "nbformat": 4,
 "nbformat_minor": 5
}
