{
 "cells": [
  {
   "cell_type": "code",
   "execution_count": 3,
   "id": "83fb4a26",
   "metadata": {},
   "outputs": [],
   "source": [
    "f=open(\"test.txt\")"
   ]
  },
  {
   "cell_type": "code",
   "execution_count": 9,
   "id": "9971d6d9",
   "metadata": {},
   "outputs": [],
   "source": [
    "f = open(\"test.txt\",\"w\")"
   ]
  },
  {
   "cell_type": "code",
   "execution_count": 4,
   "id": "0958bd6a",
   "metadata": {},
   "outputs": [
    {
     "ename": "FileNotFoundError",
     "evalue": "[Errno 2] No such file or directory: 'fest.txt'",
     "output_type": "error",
     "traceback": [
      "\u001b[1;31m---------------------------------------------------------------------------\u001b[0m",
      "\u001b[1;31mFileNotFoundError\u001b[0m                         Traceback (most recent call last)",
      "\u001b[1;32m~\\AppData\\Local\\Temp/ipykernel_21320/2583728291.py\u001b[0m in \u001b[0;36m<module>\u001b[1;34m\u001b[0m\n\u001b[1;32m----> 1\u001b[1;33m \u001b[0mf\u001b[0m\u001b[1;33m=\u001b[0m\u001b[0mopen\u001b[0m\u001b[1;33m(\u001b[0m\u001b[1;34m\"fest.txt\"\u001b[0m\u001b[1;33m)\u001b[0m\u001b[1;33m\u001b[0m\u001b[1;33m\u001b[0m\u001b[0m\n\u001b[0m",
      "\u001b[1;31mFileNotFoundError\u001b[0m: [Errno 2] No such file or directory: 'fest.txt'"
     ]
    }
   ],
   "source": [
    "f=open(\"fest.txt\")"
   ]
  },
  {
   "cell_type": "code",
   "execution_count": 10,
   "id": "1e7746f5",
   "metadata": {},
   "outputs": [
    {
     "data": {
      "text/plain": [
       "18"
      ]
     },
     "execution_count": 10,
     "metadata": {},
     "output_type": "execute_result"
    }
   ],
   "source": [
    "f.write(\"jfsdjkgfsdjgsdffdf\")"
   ]
  },
  {
   "cell_type": "code",
   "execution_count": 11,
   "id": "c45fd20f",
   "metadata": {},
   "outputs": [],
   "source": [
    "f.close()"
   ]
  },
  {
   "cell_type": "code",
   "execution_count": 14,
   "id": "25b813f1",
   "metadata": {},
   "outputs": [],
   "source": [
    "f=open(\"test.txt\")"
   ]
  },
  {
   "cell_type": "code",
   "execution_count": 13,
   "id": "6791be1a",
   "metadata": {},
   "outputs": [
    {
     "data": {
      "text/plain": [
       "'jfsdjkgfsdjgsdffdf'"
      ]
     },
     "execution_count": 13,
     "metadata": {},
     "output_type": "execute_result"
    }
   ],
   "source": [
    "f.read()"
   ]
  },
  {
   "cell_type": "code",
   "execution_count": 15,
   "id": "913e86d2",
   "metadata": {},
   "outputs": [
    {
     "data": {
      "text/plain": [
       "\"jfsdjkgfsdjgsdffdf\\ndljflskdhfs\\nsdjfkhsld\\nskfgfkdjsf\\njskfgsd\\nskfgkjs\\nssjdfsdgf'sdhf;;s\\nfhfpsgf\\nsff;sdgdf\\nsdhdpfgsd]fspdff\\nsf;s]'s\\nfsh;fs\\nfhs\""
      ]
     },
     "execution_count": 15,
     "metadata": {},
     "output_type": "execute_result"
    }
   ],
   "source": [
    "f.read()"
   ]
  },
  {
   "cell_type": "code",
   "execution_count": 16,
   "id": "768a4d09",
   "metadata": {},
   "outputs": [
    {
     "data": {
      "text/plain": [
       "''"
      ]
     },
     "execution_count": 16,
     "metadata": {},
     "output_type": "execute_result"
    }
   ],
   "source": [
    "f.read()"
   ]
  },
  {
   "cell_type": "code",
   "execution_count": 17,
   "id": "270b2f08",
   "metadata": {},
   "outputs": [
    {
     "data": {
      "text/plain": [
       "10"
      ]
     },
     "execution_count": 17,
     "metadata": {},
     "output_type": "execute_result"
    }
   ],
   "source": [
    "f.seek(10)"
   ]
  },
  {
   "cell_type": "code",
   "execution_count": 18,
   "id": "2dd6d87f",
   "metadata": {},
   "outputs": [
    {
     "data": {
      "text/plain": [
       "\"jgsdffdf\\ndljflskdhfs\\nsdjfkhsld\\nskfgfkdjsf\\njskfgsd\\nskfgkjs\\nssjdfsdgf'sdhf;;s\\nfhfpsgf\\nsff;sdgdf\\nsdhdpfgsd]fspdff\\nsf;s]'s\\nfsh;fs\\nfhs\""
      ]
     },
     "execution_count": 18,
     "metadata": {},
     "output_type": "execute_result"
    }
   ],
   "source": [
    "f.read()"
   ]
  },
  {
   "cell_type": "code",
   "execution_count": 19,
   "id": "816541a0",
   "metadata": {},
   "outputs": [
    {
     "data": {
      "text/plain": [
       "''"
      ]
     },
     "execution_count": 19,
     "metadata": {},
     "output_type": "execute_result"
    }
   ],
   "source": [
    "f.read()"
   ]
  },
  {
   "cell_type": "code",
   "execution_count": 20,
   "id": "01a6b960",
   "metadata": {},
   "outputs": [
    {
     "data": {
      "text/plain": [
       "0"
      ]
     },
     "execution_count": 20,
     "metadata": {},
     "output_type": "execute_result"
    }
   ],
   "source": [
    "f.seek(0)"
   ]
  },
  {
   "cell_type": "code",
   "execution_count": 21,
   "id": "4e470eed",
   "metadata": {},
   "outputs": [
    {
     "data": {
      "text/plain": [
       "\"jfsdjkgfsdjgsdffdf\\ndljflskdhfs\\nsdjfkhsld\\nskfgfkdjsf\\njskfgsd\\nskfgkjs\\nssjdfsdgf'sdhf;;s\\nfhfpsgf\\nsff;sdgdf\\nsdhdpfgsd]fspdff\\nsf;s]'s\\nfsh;fs\\nfhs\""
      ]
     },
     "execution_count": 21,
     "metadata": {},
     "output_type": "execute_result"
    }
   ],
   "source": [
    "f.read()"
   ]
  },
  {
   "cell_type": "code",
   "execution_count": 22,
   "id": "b65e82fa",
   "metadata": {},
   "outputs": [],
   "source": [
    "f = open(\"test.txt\",\"r\")"
   ]
  },
  {
   "cell_type": "code",
   "execution_count": 23,
   "id": "309f75e8",
   "metadata": {},
   "outputs": [
    {
     "ename": "UnsupportedOperation",
     "evalue": "not writable",
     "output_type": "error",
     "traceback": [
      "\u001b[1;31m---------------------------------------------------------------------------\u001b[0m",
      "\u001b[1;31mUnsupportedOperation\u001b[0m                      Traceback (most recent call last)",
      "\u001b[1;32m~\\AppData\\Local\\Temp/ipykernel_21320/479561757.py\u001b[0m in \u001b[0;36m<module>\u001b[1;34m\u001b[0m\n\u001b[1;32m----> 1\u001b[1;33m \u001b[0mf\u001b[0m\u001b[1;33m.\u001b[0m\u001b[0mwrite\u001b[0m\u001b[1;33m(\u001b[0m\u001b[1;34m\"gjdhgj\"\u001b[0m\u001b[1;33m)\u001b[0m\u001b[1;33m\u001b[0m\u001b[1;33m\u001b[0m\u001b[0m\n\u001b[0m",
      "\u001b[1;31mUnsupportedOperation\u001b[0m: not writable"
     ]
    }
   ],
   "source": [
    "f.write(\"gjdhgj\")"
   ]
  },
  {
   "cell_type": "code",
   "execution_count": 24,
   "id": "cd21760d",
   "metadata": {},
   "outputs": [
    {
     "data": {
      "text/plain": [
       "\"jfsdjkgfsdjgsdffdf\\ndljflskdhfs\\nsdjfkhsld\\nskfgfkdjsf\\njskfgsd\\nskfgkjs\\nssjdfsdgf'sdhf;;s\\nfhfpsgf\\nsff;sdgdf\\nsdhdpfgsd]fspdff\\nsf;s]'s\\nfsh;fs\\nfhs\""
      ]
     },
     "execution_count": 24,
     "metadata": {},
     "output_type": "execute_result"
    }
   ],
   "source": [
    "f.read()"
   ]
  },
  {
   "cell_type": "code",
   "execution_count": 25,
   "id": "87333d0c",
   "metadata": {},
   "outputs": [
    {
     "data": {
      "text/plain": [
       "''"
      ]
     },
     "execution_count": 25,
     "metadata": {},
     "output_type": "execute_result"
    }
   ],
   "source": [
    "f.read()"
   ]
  },
  {
   "cell_type": "code",
   "execution_count": 26,
   "id": "3b720214",
   "metadata": {},
   "outputs": [
    {
     "data": {
      "text/plain": [
       "0"
      ]
     },
     "execution_count": 26,
     "metadata": {},
     "output_type": "execute_result"
    }
   ],
   "source": [
    "f.seek(0)"
   ]
  },
  {
   "cell_type": "code",
   "execution_count": 27,
   "id": "196a57f1",
   "metadata": {},
   "outputs": [
    {
     "data": {
      "text/plain": [
       "'jfsdjkgfsdjgsdffdf\\ndljfls'"
      ]
     },
     "execution_count": 27,
     "metadata": {},
     "output_type": "execute_result"
    }
   ],
   "source": [
    "f.read(25)"
   ]
  },
  {
   "cell_type": "code",
   "execution_count": 28,
   "id": "be9e9203",
   "metadata": {},
   "outputs": [],
   "source": [
    "f.close()"
   ]
  },
  {
   "cell_type": "code",
   "execution_count": 29,
   "id": "2ff08cf5",
   "metadata": {},
   "outputs": [
    {
     "ename": "ValueError",
     "evalue": "I/O operation on closed file.",
     "output_type": "error",
     "traceback": [
      "\u001b[1;31m---------------------------------------------------------------------------\u001b[0m",
      "\u001b[1;31mValueError\u001b[0m                                Traceback (most recent call last)",
      "\u001b[1;32m~\\AppData\\Local\\Temp/ipykernel_21320/3059900045.py\u001b[0m in \u001b[0;36m<module>\u001b[1;34m\u001b[0m\n\u001b[1;32m----> 1\u001b[1;33m \u001b[0mf\u001b[0m\u001b[1;33m.\u001b[0m\u001b[0mread\u001b[0m\u001b[1;33m(\u001b[0m\u001b[1;33m)\u001b[0m\u001b[1;33m\u001b[0m\u001b[1;33m\u001b[0m\u001b[0m\n\u001b[0m",
      "\u001b[1;31mValueError\u001b[0m: I/O operation on closed file."
     ]
    }
   ],
   "source": [
    "f.read()"
   ]
  },
  {
   "cell_type": "code",
   "execution_count": 32,
   "id": "47609982",
   "metadata": {},
   "outputs": [],
   "source": [
    "f=open(\"test.txt\",\"w\")"
   ]
  },
  {
   "cell_type": "code",
   "execution_count": 33,
   "id": "b0fd4665",
   "metadata": {},
   "outputs": [
    {
     "data": {
      "text/plain": [
       "64"
      ]
     },
     "execution_count": 33,
     "metadata": {},
     "output_type": "execute_result"
    }
   ],
   "source": [
    "f.write(\"hjfkfhddfhg kjghfjkd kjfkfdh hkjd kjfg k jfdf ghdksg lkh glksdjg\")"
   ]
  },
  {
   "cell_type": "code",
   "execution_count": 34,
   "id": "1bb38eca",
   "metadata": {},
   "outputs": [],
   "source": [
    "f.close()"
   ]
  },
  {
   "cell_type": "code",
   "execution_count": 36,
   "id": "16852309",
   "metadata": {},
   "outputs": [],
   "source": [
    "f=open(\"test.txt\",\"a\")"
   ]
  },
  {
   "cell_type": "code",
   "execution_count": 37,
   "id": "0e3646bc",
   "metadata": {},
   "outputs": [
    {
     "data": {
      "text/plain": [
       "14"
      ]
     },
     "execution_count": 37,
     "metadata": {},
     "output_type": "execute_result"
    }
   ],
   "source": [
    "f.write(\"hfdsjfsdfsjfsd\")"
   ]
  },
  {
   "cell_type": "code",
   "execution_count": 38,
   "id": "dfd1cf8e",
   "metadata": {},
   "outputs": [],
   "source": [
    "f.close()"
   ]
  },
  {
   "cell_type": "code",
   "execution_count": 39,
   "id": "a17c4a2f",
   "metadata": {},
   "outputs": [],
   "source": [
    "f=open(\"test1.txt\",\"wb\")"
   ]
  },
  {
   "cell_type": "code",
   "execution_count": 40,
   "id": "b858df53",
   "metadata": {},
   "outputs": [
    {
     "ename": "TypeError",
     "evalue": "a bytes-like object is required, not 'str'",
     "output_type": "error",
     "traceback": [
      "\u001b[1;31m---------------------------------------------------------------------------\u001b[0m",
      "\u001b[1;31mTypeError\u001b[0m                                 Traceback (most recent call last)",
      "\u001b[1;32m~\\AppData\\Local\\Temp/ipykernel_21320/2257675227.py\u001b[0m in \u001b[0;36m<module>\u001b[1;34m\u001b[0m\n\u001b[1;32m----> 1\u001b[1;33m \u001b[0mf\u001b[0m\u001b[1;33m.\u001b[0m\u001b[0mwrite\u001b[0m\u001b[1;33m(\u001b[0m\u001b[1;34m\"jgfsjdfg\"\u001b[0m\u001b[1;33m)\u001b[0m\u001b[1;33m\u001b[0m\u001b[1;33m\u001b[0m\u001b[0m\n\u001b[0m",
      "\u001b[1;31mTypeError\u001b[0m: a bytes-like object is required, not 'str'"
     ]
    }
   ],
   "source": [
    "f.write(\"jgfsjdfg\")"
   ]
  },
  {
   "cell_type": "code",
   "execution_count": 42,
   "id": "4cda3a62",
   "metadata": {},
   "outputs": [
    {
     "data": {
      "text/plain": [
       "8"
      ]
     },
     "execution_count": 42,
     "metadata": {},
     "output_type": "execute_result"
    }
   ],
   "source": [
    "f.write(b\"jgfsjdfg\")"
   ]
  },
  {
   "cell_type": "code",
   "execution_count": 43,
   "id": "e17d10cf",
   "metadata": {},
   "outputs": [],
   "source": [
    "f.close()"
   ]
  },
  {
   "cell_type": "code",
   "execution_count": 50,
   "id": "c0ea6b6d",
   "metadata": {},
   "outputs": [],
   "source": [
    "f=open(\"test1.txt\",\"rb\")"
   ]
  },
  {
   "cell_type": "code",
   "execution_count": 45,
   "id": "92d6e739",
   "metadata": {},
   "outputs": [
    {
     "data": {
      "text/plain": [
       "'jgfsjdfg'"
      ]
     },
     "execution_count": 45,
     "metadata": {},
     "output_type": "execute_result"
    }
   ],
   "source": [
    "f.read()"
   ]
  },
  {
   "cell_type": "code",
   "execution_count": 46,
   "id": "550fdf68",
   "metadata": {},
   "outputs": [
    {
     "data": {
      "text/plain": [
       "2"
      ]
     },
     "execution_count": 46,
     "metadata": {},
     "output_type": "execute_result"
    }
   ],
   "source": [
    "f.seek(2)"
   ]
  },
  {
   "cell_type": "code",
   "execution_count": 47,
   "id": "0f70fd33",
   "metadata": {},
   "outputs": [
    {
     "data": {
      "text/plain": [
       "'f'"
      ]
     },
     "execution_count": 47,
     "metadata": {},
     "output_type": "execute_result"
    }
   ],
   "source": [
    "f.read(1)"
   ]
  },
  {
   "cell_type": "code",
   "execution_count": 48,
   "id": "a3bccb67",
   "metadata": {},
   "outputs": [
    {
     "ename": "UnsupportedOperation",
     "evalue": "can't do nonzero end-relative seeks",
     "output_type": "error",
     "traceback": [
      "\u001b[1;31m---------------------------------------------------------------------------\u001b[0m",
      "\u001b[1;31mUnsupportedOperation\u001b[0m                      Traceback (most recent call last)",
      "\u001b[1;32m~\\AppData\\Local\\Temp/ipykernel_21320/1273800031.py\u001b[0m in \u001b[0;36m<module>\u001b[1;34m\u001b[0m\n\u001b[1;32m----> 1\u001b[1;33m \u001b[0mf\u001b[0m\u001b[1;33m.\u001b[0m\u001b[0mseek\u001b[0m\u001b[1;33m(\u001b[0m\u001b[1;33m-\u001b[0m\u001b[1;36m3\u001b[0m\u001b[1;33m,\u001b[0m\u001b[1;36m2\u001b[0m\u001b[1;33m)\u001b[0m\u001b[1;33m\u001b[0m\u001b[1;33m\u001b[0m\u001b[0m\n\u001b[0m",
      "\u001b[1;31mUnsupportedOperation\u001b[0m: can't do nonzero end-relative seeks"
     ]
    }
   ],
   "source": [
    "f.seek(-3,2)"
   ]
  },
  {
   "cell_type": "code",
   "execution_count": 49,
   "id": "d9b6e0c1",
   "metadata": {},
   "outputs": [
    {
     "data": {
      "text/plain": [
       "2"
      ]
     },
     "execution_count": 49,
     "metadata": {},
     "output_type": "execute_result"
    }
   ],
   "source": [
    "f.seek(2)"
   ]
  },
  {
   "cell_type": "code",
   "execution_count": 51,
   "id": "f2469e2d",
   "metadata": {},
   "outputs": [
    {
     "data": {
      "text/plain": [
       "5"
      ]
     },
     "execution_count": 51,
     "metadata": {},
     "output_type": "execute_result"
    }
   ],
   "source": [
    "f.seek(-3,2)"
   ]
  },
  {
   "cell_type": "code",
   "execution_count": 52,
   "id": "bdf668f7",
   "metadata": {},
   "outputs": [
    {
     "ename": "ValueError",
     "evalue": "whence value 3 unsupported",
     "output_type": "error",
     "traceback": [
      "\u001b[1;31m---------------------------------------------------------------------------\u001b[0m",
      "\u001b[1;31mValueError\u001b[0m                                Traceback (most recent call last)",
      "\u001b[1;32m~\\AppData\\Local\\Temp/ipykernel_21320/2630089463.py\u001b[0m in \u001b[0;36m<module>\u001b[1;34m\u001b[0m\n\u001b[1;32m----> 1\u001b[1;33m \u001b[0mf\u001b[0m\u001b[1;33m.\u001b[0m\u001b[0mseek\u001b[0m\u001b[1;33m(\u001b[0m\u001b[1;33m-\u001b[0m\u001b[1;36m3\u001b[0m\u001b[1;33m,\u001b[0m\u001b[1;36m3\u001b[0m\u001b[1;33m)\u001b[0m\u001b[1;33m\u001b[0m\u001b[1;33m\u001b[0m\u001b[0m\n\u001b[0m",
      "\u001b[1;31mValueError\u001b[0m: whence value 3 unsupported"
     ]
    }
   ],
   "source": [
    "f.seek(-3,3)"
   ]
  },
  {
   "cell_type": "code",
   "execution_count": 53,
   "id": "27803c39",
   "metadata": {},
   "outputs": [
    {
     "data": {
      "text/plain": [
       "2"
      ]
     },
     "execution_count": 53,
     "metadata": {},
     "output_type": "execute_result"
    }
   ],
   "source": [
    "f.seek(-3,1)"
   ]
  },
  {
   "cell_type": "code",
   "execution_count": 54,
   "id": "2cabb519",
   "metadata": {},
   "outputs": [
    {
     "ename": "OSError",
     "evalue": "[Errno 22] Invalid argument",
     "output_type": "error",
     "traceback": [
      "\u001b[1;31m---------------------------------------------------------------------------\u001b[0m",
      "\u001b[1;31mOSError\u001b[0m                                   Traceback (most recent call last)",
      "\u001b[1;32m~\\AppData\\Local\\Temp/ipykernel_21320/3169588042.py\u001b[0m in \u001b[0;36m<module>\u001b[1;34m\u001b[0m\n\u001b[1;32m----> 1\u001b[1;33m \u001b[0mf\u001b[0m\u001b[1;33m.\u001b[0m\u001b[0mseek\u001b[0m\u001b[1;33m(\u001b[0m\u001b[1;33m-\u001b[0m\u001b[1;36m3\u001b[0m\u001b[1;33m,\u001b[0m\u001b[1;36m0\u001b[0m\u001b[1;33m)\u001b[0m\u001b[1;33m\u001b[0m\u001b[1;33m\u001b[0m\u001b[0m\n\u001b[0m",
      "\u001b[1;31mOSError\u001b[0m: [Errno 22] Invalid argument"
     ]
    }
   ],
   "source": [
    "f.seek(-3,0)"
   ]
  },
  {
   "cell_type": "code",
   "execution_count": 55,
   "id": "8fc9289e",
   "metadata": {},
   "outputs": [
    {
     "data": {
      "text/plain": [
       "4"
      ]
     },
     "execution_count": 55,
     "metadata": {},
     "output_type": "execute_result"
    }
   ],
   "source": [
    "f.seek(-4,2)"
   ]
  },
  {
   "cell_type": "code",
   "execution_count": 74,
   "id": "04094616",
   "metadata": {},
   "outputs": [],
   "source": [
    "f = open(\"test2.txt\", \"w\")"
   ]
  },
  {
   "cell_type": "code",
   "execution_count": 75,
   "id": "7dde81db",
   "metadata": {},
   "outputs": [
    {
     "data": {
      "text/plain": [
       "107"
      ]
     },
     "execution_count": 75,
     "metadata": {},
     "output_type": "execute_result"
    }
   ],
   "source": [
    "f.write(\"f jdssdgfjsdfjsmndfsdffjhsfhjsdvjhsdjhss hsdf jhsghjd fhjdnshd f hj  sdhfsh sjdhffhshm dsffhds fhsdfgsdhfss\")"
   ]
  },
  {
   "cell_type": "code",
   "execution_count": 76,
   "id": "4028f3b8",
   "metadata": {},
   "outputs": [],
   "source": [
    "f.close()"
   ]
  },
  {
   "cell_type": "code",
   "execution_count": 77,
   "id": "35de500d",
   "metadata": {},
   "outputs": [],
   "source": [
    "f = open(\"test2.txt\", \"r\")"
   ]
  },
  {
   "cell_type": "code",
   "execution_count": 78,
   "id": "65556be8",
   "metadata": {},
   "outputs": [
    {
     "data": {
      "text/plain": [
       "'f jdssdgfjsdfjsmndfsdffjhsfhjsdvjhsdjhss hsdf jhsghjd fhjdnshd f hj  sdhfsh sjdhffhshm dsffhds fhsdfgsdhfss'"
      ]
     },
     "execution_count": 78,
     "metadata": {},
     "output_type": "execute_result"
    }
   ],
   "source": [
    "f.read()"
   ]
  },
  {
   "cell_type": "code",
   "execution_count": 80,
   "id": "3b36505a",
   "metadata": {},
   "outputs": [
    {
     "data": {
      "text/plain": [
       "\"\\nmsdbffndd/ndfdsmhf/mdfjds\\nm,bfdsb\\nklfhsd\\ndffjlkdsha\\nffjdsagf\\ndsklfgssa\\nfhlkadf\\nfahjkasddf\\njsas;dhff\\nadja'shfla\\ndjkadgff\\nasjffasddflsasdf'ashkkas\\n\""
      ]
     },
     "execution_count": 80,
     "metadata": {},
     "output_type": "execute_result"
    }
   ],
   "source": [
    "f.read()"
   ]
  },
  {
   "cell_type": "code",
   "execution_count": 81,
   "id": "7e602ed7",
   "metadata": {},
   "outputs": [
    {
     "data": {
      "text/plain": [
       "0"
      ]
     },
     "execution_count": 81,
     "metadata": {},
     "output_type": "execute_result"
    }
   ],
   "source": [
    "f.seek(0)"
   ]
  },
  {
   "cell_type": "code",
   "execution_count": 82,
   "id": "e63acbee",
   "metadata": {},
   "outputs": [
    {
     "data": {
      "text/plain": [
       "'f jdssdgfjsdfjsmndfsdffjhsfhjsdvjhsdjhss hsdf jhsghjd fhjdnshd f hj  sdhfsh sjdhffhshm dsffhds fhsdfgsdhfss\\n'"
      ]
     },
     "execution_count": 82,
     "metadata": {},
     "output_type": "execute_result"
    }
   ],
   "source": [
    "f.readline()"
   ]
  },
  {
   "cell_type": "code",
   "execution_count": 83,
   "id": "21db67f2",
   "metadata": {},
   "outputs": [
    {
     "data": {
      "text/plain": [
       "'msdbffndd/ndfdsmhf/mdfjds\\n'"
      ]
     },
     "execution_count": 83,
     "metadata": {},
     "output_type": "execute_result"
    }
   ],
   "source": [
    "f.readline()"
   ]
  },
  {
   "cell_type": "code",
   "execution_count": 84,
   "id": "93cee23a",
   "metadata": {},
   "outputs": [
    {
     "data": {
      "text/plain": [
       "'m,bfdsb\\n'"
      ]
     },
     "execution_count": 84,
     "metadata": {},
     "output_type": "execute_result"
    }
   ],
   "source": [
    "f.readline()"
   ]
  },
  {
   "cell_type": "code",
   "execution_count": 85,
   "id": "21942044",
   "metadata": {},
   "outputs": [
    {
     "data": {
      "text/plain": [
       "'klfhsd\\n'"
      ]
     },
     "execution_count": 85,
     "metadata": {},
     "output_type": "execute_result"
    }
   ],
   "source": [
    "f.readline()"
   ]
  },
  {
   "cell_type": "code",
   "execution_count": 86,
   "id": "2eff7298",
   "metadata": {},
   "outputs": [
    {
     "data": {
      "text/plain": [
       "'dffjlkdsha\\n'"
      ]
     },
     "execution_count": 86,
     "metadata": {},
     "output_type": "execute_result"
    }
   ],
   "source": [
    "f.readline()"
   ]
  },
  {
   "cell_type": "code",
   "execution_count": 87,
   "id": "62a10173",
   "metadata": {},
   "outputs": [
    {
     "data": {
      "text/plain": [
       "'ffjdsagf\\n'"
      ]
     },
     "execution_count": 87,
     "metadata": {},
     "output_type": "execute_result"
    }
   ],
   "source": [
    "f.readline()"
   ]
  },
  {
   "cell_type": "code",
   "execution_count": 88,
   "id": "ee4590f7",
   "metadata": {},
   "outputs": [
    {
     "data": {
      "text/plain": [
       "'dsklfgssa'"
      ]
     },
     "execution_count": 88,
     "metadata": {},
     "output_type": "execute_result"
    }
   ],
   "source": [
    "f.readline(9)"
   ]
  },
  {
   "cell_type": "code",
   "execution_count": 89,
   "id": "8b1e2077",
   "metadata": {},
   "outputs": [],
   "source": [
    "f.close()"
   ]
  },
  {
   "cell_type": "code",
   "execution_count": 92,
   "id": "dc6fe29e",
   "metadata": {},
   "outputs": [],
   "source": [
    "f=open(\"test2.txt\",\"r\")"
   ]
  },
  {
   "cell_type": "code",
   "execution_count": 91,
   "id": "553830c5",
   "metadata": {},
   "outputs": [
    {
     "name": "stdout",
     "output_type": "stream",
     "text": [
      "f jdssdgfjsdfjsmndfsdffjhsfhjsdvjhsdjhss hsdf jhsghjd fhjdnshd f hj  sdhfsh sjdhffhshm dsffhds fhsdfgsdhfss\n",
      "\n",
      "msdbffndd/ndfdsmhf/mdfjds\n",
      "\n",
      "m,bfdsb\n",
      "\n",
      "klfhsd\n",
      "\n",
      "dffjlkdsha\n",
      "\n",
      "ffjdsagf\n",
      "\n",
      "dsklfgssa\n",
      "\n",
      "fhlkadf\n",
      "\n",
      "fahjkasddf\n",
      "\n",
      "jsas;dhff\n",
      "\n",
      "adja'shfla\n",
      "\n",
      "djkadgff\n",
      "\n",
      "asjffasddflsasdf'ashkkas\n",
      "\n"
     ]
    }
   ],
   "source": [
    "for i in f:\n",
    "    print(i)"
   ]
  },
  {
   "cell_type": "code",
   "execution_count": 93,
   "id": "41253f98",
   "metadata": {},
   "outputs": [
    {
     "name": "stdout",
     "output_type": "stream",
     "text": [
      "f jdssdgfjsdfjsmndfsdffjhsfhjsdvjhsdjhss hsdf jhsghjd fhjdnshd f hj  sdhfsh sjdhffhshm dsffhds fhsdfgsdhfss\n",
      " msdbffndd/ndfdsmhf/mdfjds\n",
      " m,bfdsb\n",
      " klfhsd\n",
      " dffjlkdsha\n",
      " ffjdsagf\n",
      " dsklfgssa\n",
      " fhlkadf\n",
      " fahjkasddf\n",
      " jsas;dhff\n",
      " adja'shfla\n",
      " djkadgff\n",
      " asjffasddflsasdf'ashkkas\n",
      " "
     ]
    }
   ],
   "source": [
    "for i in f:\n",
    "    print(i,end = \" \")"
   ]
  },
  {
   "cell_type": "code",
   "execution_count": 94,
   "id": "676e4e2b",
   "metadata": {},
   "outputs": [],
   "source": [
    "f.close()"
   ]
  },
  {
   "cell_type": "code",
   "execution_count": 98,
   "id": "93ee43bf",
   "metadata": {},
   "outputs": [],
   "source": [
    "f = open(\"test2.txt\",\"r+\")"
   ]
  },
  {
   "cell_type": "code",
   "execution_count": 99,
   "id": "6aed78b0",
   "metadata": {},
   "outputs": [
    {
     "data": {
      "text/plain": [
       "['f jdssdgfjsdfjsmndfsdffjhsfhjsdvjhsdjhss hsdf jhsghjd fhjdnshd f hj  sdhfsh sjdhffhshm dsffhds fhsdfgsdhfss\\n',\n",
       " 'msdbffndd/ndfdsmhf/mdfjds\\n',\n",
       " 'm,bfdsb\\n',\n",
       " 'klfhsd\\n',\n",
       " 'dffjlkdsha\\n',\n",
       " 'ffjdsagf\\n',\n",
       " 'dsklfgssa\\n',\n",
       " 'fhlkadf\\n',\n",
       " 'fahjkasddf\\n',\n",
       " 'jsas;dhff\\n',\n",
       " \"adja'shfla\\n\",\n",
       " 'djkadgff\\n',\n",
       " \"asjffasddflsasdf'ashkkas\\n\"]"
      ]
     },
     "execution_count": 99,
     "metadata": {},
     "output_type": "execute_result"
    }
   ],
   "source": [
    "list(f)"
   ]
  },
  {
   "cell_type": "code",
   "execution_count": 100,
   "id": "e2ef28d7",
   "metadata": {},
   "outputs": [
    {
     "data": {
      "text/plain": [
       "19"
      ]
     },
     "execution_count": 100,
     "metadata": {},
     "output_type": "execute_result"
    }
   ],
   "source": [
    "f.write(\"ghhdghhghgdhhddhddh\")"
   ]
  },
  {
   "cell_type": "code",
   "execution_count": 108,
   "id": "fe29ce4d",
   "metadata": {},
   "outputs": [],
   "source": [
    "f.close()"
   ]
  },
  {
   "cell_type": "code",
   "execution_count": 128,
   "id": "d7dd38b4",
   "metadata": {},
   "outputs": [],
   "source": [
    "f=open(\"test2.txt\",\"r+\")"
   ]
  },
  {
   "cell_type": "code",
   "execution_count": 129,
   "id": "e649b15d",
   "metadata": {},
   "outputs": [],
   "source": [
    "f.writelines(\"hgsdsgdh hdsgfhdsgfk hjjfsfdgs dsf ds dfdf df df \")"
   ]
  },
  {
   "cell_type": "code",
   "execution_count": 127,
   "id": "411b5487",
   "metadata": {},
   "outputs": [],
   "source": [
    "f.close()"
   ]
  },
  {
   "cell_type": "code",
   "execution_count": 130,
   "id": "22be8a30",
   "metadata": {},
   "outputs": [
    {
     "data": {
      "text/plain": [
       "345"
      ]
     },
     "execution_count": 130,
     "metadata": {},
     "output_type": "execute_result"
    }
   ],
   "source": [
    "f.seek(345)"
   ]
  },
  {
   "cell_type": "code",
   "execution_count": 131,
   "id": "4aecc37c",
   "metadata": {},
   "outputs": [],
   "source": [
    "f.close()"
   ]
  },
  {
   "cell_type": "code",
   "execution_count": 132,
   "id": "ea65de63",
   "metadata": {},
   "outputs": [
    {
     "ename": "ValueError",
     "evalue": "I/O operation on closed file",
     "output_type": "error",
     "traceback": [
      "\u001b[1;31m---------------------------------------------------------------------------\u001b[0m",
      "\u001b[1;31mValueError\u001b[0m                                Traceback (most recent call last)",
      "\u001b[1;32m~\\AppData\\Local\\Temp/ipykernel_21320/2575569948.py\u001b[0m in \u001b[0;36m<module>\u001b[1;34m\u001b[0m\n\u001b[1;32m----> 1\u001b[1;33m \u001b[0mf\u001b[0m\u001b[1;33m.\u001b[0m\u001b[0mfileno\u001b[0m\u001b[1;33m(\u001b[0m\u001b[1;33m)\u001b[0m\u001b[1;33m\u001b[0m\u001b[1;33m\u001b[0m\u001b[0m\n\u001b[0m",
      "\u001b[1;31mValueError\u001b[0m: I/O operation on closed file"
     ]
    }
   ],
   "source": [
    "f.fileno()"
   ]
  },
  {
   "cell_type": "code",
   "execution_count": 133,
   "id": "83efcb4b",
   "metadata": {},
   "outputs": [],
   "source": [
    "f=open(\"test2.txt\",\"r+\")"
   ]
  },
  {
   "cell_type": "code",
   "execution_count": 134,
   "id": "bf4bf9fa",
   "metadata": {},
   "outputs": [
    {
     "data": {
      "text/plain": [
       "9"
      ]
     },
     "execution_count": 134,
     "metadata": {},
     "output_type": "execute_result"
    }
   ],
   "source": [
    "f.fileno()"
   ]
  },
  {
   "cell_type": "code",
   "execution_count": 135,
   "id": "12e2db6d",
   "metadata": {},
   "outputs": [
    {
     "name": "stdout",
     "output_type": "stream",
     "text": [
      "Writing test5.txt\n"
     ]
    }
   ],
   "source": [
    "%%writefile test5.txt\n",
    "my name is syed"
   ]
  },
  {
   "cell_type": "code",
   "execution_count": 136,
   "id": "f87a3d46",
   "metadata": {},
   "outputs": [],
   "source": [
    "import os"
   ]
  },
  {
   "cell_type": "code",
   "execution_count": 137,
   "id": "74443753",
   "metadata": {},
   "outputs": [
    {
     "data": {
      "text/plain": [
       "'C:\\\\Users\\\\syedf'"
      ]
     },
     "execution_count": 137,
     "metadata": {},
     "output_type": "execute_result"
    }
   ],
   "source": [
    "pwd()"
   ]
  },
  {
   "cell_type": "code",
   "execution_count": 138,
   "id": "ee54e3c2",
   "metadata": {},
   "outputs": [
    {
     "data": {
      "text/plain": [
       "'C:\\\\Users\\\\syedf'"
      ]
     },
     "execution_count": 138,
     "metadata": {},
     "output_type": "execute_result"
    }
   ],
   "source": [
    "os.getcwd()"
   ]
  },
  {
   "cell_type": "code",
   "execution_count": 139,
   "id": "7a7fbff4",
   "metadata": {},
   "outputs": [
    {
     "data": {
      "text/plain": [
       "['-1.14-windows.xml',\n",
       " '.atom',\n",
       " '.conda',\n",
       " '.condarc',\n",
       " '.continuum',\n",
       " '.idlerc',\n",
       " '.ipynb_checkpoints',\n",
       " '.ipython',\n",
       " '.jupyter',\n",
       " '.matplotlib',\n",
       " '.ms-ad',\n",
       " '.python_history',\n",
       " '.vscode',\n",
       " '3D Objects',\n",
       " 'anaconda3',\n",
       " 'AppData',\n",
       " 'Application Data',\n",
       " 'class python tuple.ipynb',\n",
       " 'Contacts',\n",
       " 'Cookies',\n",
       " 'Creative Cloud Files',\n",
       " 'Documents',\n",
       " 'Downloads',\n",
       " 'Favorites',\n",
       " 'file read write.ipynb',\n",
       " 'For loop.ipynb',\n",
       " 'Function part 1 ineu.ipynb',\n",
       " 'Function part 2 ineu.ipynb',\n",
       " 'If condn and while loop.ipynb',\n",
       " 'IntelGraphicsProfiles',\n",
       " 'lambda function.ipynb',\n",
       " 'Links',\n",
       " 'List manipulation and list comprehensive ineu.ipynb',\n",
       " 'Local Settings',\n",
       " 'Music',\n",
       " 'My Documents',\n",
       " 'NCH Software Suite',\n",
       " 'NetHood',\n",
       " 'NTUSER.DAT',\n",
       " 'ntuser.dat.LOG1',\n",
       " 'ntuser.dat.LOG2',\n",
       " 'NTUSER.DAT{1c2b59c6-c5f5-11eb-bacb-000d3a96488e}.TM.blf',\n",
       " 'NTUSER.DAT{1c2b59c6-c5f5-11eb-bacb-000d3a96488e}.TMContainer00000000000000000001.regtrans-ms',\n",
       " 'NTUSER.DAT{1c2b59c6-c5f5-11eb-bacb-000d3a96488e}.TMContainer00000000000000000002.regtrans-ms',\n",
       " 'ntuser.ini',\n",
       " 'OneDrive',\n",
       " 'PrintHood',\n",
       " 'Python basics.ipynb',\n",
       " 'Read & write operation ineu.ipynb',\n",
       " 'Recent',\n",
       " 'Saved Games',\n",
       " 'Scope class.ipynb',\n",
       " 'Searches',\n",
       " 'SendTo',\n",
       " 'Set and Dictionary ineu.ipynb',\n",
       " 'Start Menu',\n",
       " 'String and List manipulation.ipynb',\n",
       " 'Templates',\n",
       " 'test.txt',\n",
       " 'test1.txt',\n",
       " 'test2.txt',\n",
       " 'test5.txt',\n",
       " 'Tuple, set and dictionary ineu.ipynb',\n",
       " 'Untitled.ipynb',\n",
       " 'Untitled1.ipynb',\n",
       " 'Untitled2.ipynb',\n",
       " 'Untitled3.ipynb',\n",
       " 'Untitled4.ipynb',\n",
       " 'Videos',\n",
       " 'yash.ipynb']"
      ]
     },
     "execution_count": 139,
     "metadata": {},
     "output_type": "execute_result"
    }
   ],
   "source": [
    "os.listdir()"
   ]
  },
  {
   "cell_type": "code",
   "execution_count": 140,
   "id": "101e239f",
   "metadata": {},
   "outputs": [
    {
     "data": {
      "text/plain": [
       "['All Users',\n",
       " 'Default',\n",
       " 'Default User',\n",
       " 'defaultuser100000',\n",
       " 'desktop.ini',\n",
       " 'Public',\n",
       " 'syedf']"
      ]
     },
     "execution_count": 140,
     "metadata": {},
     "output_type": "execute_result"
    }
   ],
   "source": [
    "os.listdir(\"C:\\\\Users\")"
   ]
  },
  {
   "cell_type": "code",
   "execution_count": 141,
   "id": "0ab8d9dc",
   "metadata": {},
   "outputs": [
    {
     "ename": "SyntaxError",
     "evalue": "(unicode error) 'unicodeescape' codec can't decode bytes in position 2-3: truncated \\UXXXXXXXX escape (Temp/ipykernel_21320/1242072528.py, line 1)",
     "output_type": "error",
     "traceback": [
      "\u001b[1;36m  File \u001b[1;32m\"C:\\Users\\syedf\\AppData\\Local\\Temp/ipykernel_21320/1242072528.py\"\u001b[1;36m, line \u001b[1;32m1\u001b[0m\n\u001b[1;33m    os.listdir(\"C:\\Users\")\u001b[0m\n\u001b[1;37m                         ^\u001b[0m\n\u001b[1;31mSyntaxError\u001b[0m\u001b[1;31m:\u001b[0m (unicode error) 'unicodeescape' codec can't decode bytes in position 2-3: truncated \\UXXXXXXXX escape\n"
     ]
    }
   ],
   "source": [
    "os.listdir(\"C:\\Users\")"
   ]
  },
  {
   "cell_type": "code",
   "execution_count": 142,
   "id": "bd696e0e",
   "metadata": {},
   "outputs": [
    {
     "data": {
      "text/plain": [
       "['All Users',\n",
       " 'Default',\n",
       " 'Default User',\n",
       " 'defaultuser100000',\n",
       " 'desktop.ini',\n",
       " 'Public',\n",
       " 'syedf']"
      ]
     },
     "execution_count": 142,
     "metadata": {},
     "output_type": "execute_result"
    }
   ],
   "source": [
    "os.listdir(\"C:/Users\")"
   ]
  },
  {
   "cell_type": "code",
   "execution_count": null,
   "id": "638f60a4",
   "metadata": {},
   "outputs": [],
   "source": []
  }
 ],
 "metadata": {
  "kernelspec": {
   "display_name": "Python 3 (ipykernel)",
   "language": "python",
   "name": "python3"
  },
  "language_info": {
   "codemirror_mode": {
    "name": "ipython",
    "version": 3
   },
   "file_extension": ".py",
   "mimetype": "text/x-python",
   "name": "python",
   "nbconvert_exporter": "python",
   "pygments_lexer": "ipython3",
   "version": "3.9.7"
  }
 },
 "nbformat": 4,
 "nbformat_minor": 5
}
